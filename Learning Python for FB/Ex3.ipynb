{
 "cells": [
  {
   "cell_type": "code",
   "execution_count": 1,
   "metadata": {
    "collapsed": true
   },
   "outputs": [],
   "source": [
    "import pandas as pd\n",
    "import numpy as np\n",
    "import statsmodels.formula.api as smf\n",
    "import statsmodels.api as sm\n",
    "import time\n",
    "import datetime"
   ]
  },
  {
   "cell_type": "code",
   "execution_count": 2,
   "metadata": {
    "collapsed": true
   },
   "outputs": [],
   "source": [
    "salesperson = pd.read_csv('salesperson.csv')\n",
    "customer = pd.read_csv('customer.csv')\n",
    "orders = pd.read_csv('orders.csv')"
   ]
  },
  {
   "cell_type": "code",
   "execution_count": 3,
   "metadata": {
    "collapsed": false
   },
   "outputs": [
    {
     "data": {
      "text/html": [
       "<div>\n",
       "<table border=\"1\" class=\"dataframe\">\n",
       "  <thead>\n",
       "    <tr style=\"text-align: right;\">\n",
       "      <th></th>\n",
       "      <th>Number</th>\n",
       "      <th>order_date</th>\n",
       "      <th>cust_id</th>\n",
       "      <th>salesperson_id</th>\n",
       "      <th>Amount</th>\n",
       "      <th>ID_x</th>\n",
       "      <th>Name_x</th>\n",
       "      <th>Age</th>\n",
       "      <th>Salary</th>\n",
       "      <th>ID_y</th>\n",
       "      <th>Name_y</th>\n",
       "      <th>City</th>\n",
       "      <th>Industry Type</th>\n",
       "    </tr>\n",
       "  </thead>\n",
       "  <tbody>\n",
       "    <tr>\n",
       "      <th>0</th>\n",
       "      <td>10</td>\n",
       "      <td>08/02/96</td>\n",
       "      <td>4</td>\n",
       "      <td>2</td>\n",
       "      <td>2400</td>\n",
       "      <td>2</td>\n",
       "      <td>Bob</td>\n",
       "      <td>34</td>\n",
       "      <td>44000</td>\n",
       "      <td>4</td>\n",
       "      <td>Samsonic</td>\n",
       "      <td>pleasant</td>\n",
       "      <td>J</td>\n",
       "    </tr>\n",
       "    <tr>\n",
       "      <th>1</th>\n",
       "      <td>20</td>\n",
       "      <td>1/30/99</td>\n",
       "      <td>4</td>\n",
       "      <td>8</td>\n",
       "      <td>1800</td>\n",
       "      <td>8</td>\n",
       "      <td>Ken</td>\n",
       "      <td>57</td>\n",
       "      <td>115000</td>\n",
       "      <td>4</td>\n",
       "      <td>Samsonic</td>\n",
       "      <td>pleasant</td>\n",
       "      <td>J</td>\n",
       "    </tr>\n",
       "    <tr>\n",
       "      <th>2</th>\n",
       "      <td>30</td>\n",
       "      <td>7/14/95</td>\n",
       "      <td>9</td>\n",
       "      <td>1</td>\n",
       "      <td>460</td>\n",
       "      <td>1</td>\n",
       "      <td>Abe</td>\n",
       "      <td>61</td>\n",
       "      <td>140000</td>\n",
       "      <td>9</td>\n",
       "      <td>Orange</td>\n",
       "      <td>Jackson</td>\n",
       "      <td>B</td>\n",
       "    </tr>\n",
       "    <tr>\n",
       "      <th>3</th>\n",
       "      <td>40</td>\n",
       "      <td>1/29/98</td>\n",
       "      <td>7</td>\n",
       "      <td>2</td>\n",
       "      <td>540</td>\n",
       "      <td>2</td>\n",
       "      <td>Bob</td>\n",
       "      <td>34</td>\n",
       "      <td>44000</td>\n",
       "      <td>7</td>\n",
       "      <td>Samony</td>\n",
       "      <td>jackson</td>\n",
       "      <td>B</td>\n",
       "    </tr>\n",
       "    <tr>\n",
       "      <th>4</th>\n",
       "      <td>50</td>\n",
       "      <td>02/03/98</td>\n",
       "      <td>6</td>\n",
       "      <td>7</td>\n",
       "      <td>600</td>\n",
       "      <td>7</td>\n",
       "      <td>Dan</td>\n",
       "      <td>41</td>\n",
       "      <td>52000</td>\n",
       "      <td>6</td>\n",
       "      <td>Panasung</td>\n",
       "      <td>oaktown</td>\n",
       "      <td>J</td>\n",
       "    </tr>\n",
       "    <tr>\n",
       "      <th>5</th>\n",
       "      <td>60</td>\n",
       "      <td>03/02/98</td>\n",
       "      <td>6</td>\n",
       "      <td>7</td>\n",
       "      <td>720</td>\n",
       "      <td>7</td>\n",
       "      <td>Dan</td>\n",
       "      <td>41</td>\n",
       "      <td>52000</td>\n",
       "      <td>6</td>\n",
       "      <td>Panasung</td>\n",
       "      <td>oaktown</td>\n",
       "      <td>J</td>\n",
       "    </tr>\n",
       "    <tr>\n",
       "      <th>6</th>\n",
       "      <td>70</td>\n",
       "      <td>05/06/98</td>\n",
       "      <td>9</td>\n",
       "      <td>7</td>\n",
       "      <td>150</td>\n",
       "      <td>7</td>\n",
       "      <td>Dan</td>\n",
       "      <td>41</td>\n",
       "      <td>52000</td>\n",
       "      <td>9</td>\n",
       "      <td>Orange</td>\n",
       "      <td>Jackson</td>\n",
       "      <td>B</td>\n",
       "    </tr>\n",
       "  </tbody>\n",
       "</table>\n",
       "</div>"
      ],
      "text/plain": [
       "   Number order_date  cust_id  salesperson_id  Amount  ID_x Name_x  Age  \\\n",
       "0      10   08/02/96        4               2    2400     2    Bob   34   \n",
       "1      20    1/30/99        4               8    1800     8    Ken   57   \n",
       "2      30    7/14/95        9               1     460     1    Abe   61   \n",
       "3      40    1/29/98        7               2     540     2    Bob   34   \n",
       "4      50   02/03/98        6               7     600     7    Dan   41   \n",
       "5      60   03/02/98        6               7     720     7    Dan   41   \n",
       "6      70   05/06/98        9               7     150     7    Dan   41   \n",
       "\n",
       "   Salary  ID_y    Name_y      City Industry Type  \n",
       "0   44000     4  Samsonic  pleasant             J  \n",
       "1  115000     4  Samsonic  pleasant             J  \n",
       "2  140000     9    Orange   Jackson             B  \n",
       "3   44000     7    Samony   jackson             B  \n",
       "4   52000     6  Panasung   oaktown             J  \n",
       "5   52000     6  Panasung   oaktown             J  \n",
       "6   52000     9    Orange   Jackson             B  "
      ]
     },
     "execution_count": 3,
     "metadata": {},
     "output_type": "execute_result"
    }
   ],
   "source": [
    "data = pd.merge(orders, salesperson, left_on = 'salesperson_id', right_on = 'ID', how = 'left')\n",
    "data = pd.merge(data, customer, left_on = 'cust_id', right_on = 'ID', how = 'left')\n",
    "data"
   ]
  },
  {
   "cell_type": "code",
   "execution_count": 4,
   "metadata": {
    "collapsed": false
   },
   "outputs": [
    {
     "data": {
      "text/plain": [
       "0    Bob\n",
       "1    Ken\n",
       "Name: Name_x, dtype: object"
      ]
     },
     "execution_count": 4,
     "metadata": {},
     "output_type": "execute_result"
    }
   ],
   "source": [
    "data[data['Name_y'] == 'Samsonic']['Name_x']"
   ]
  },
  {
   "cell_type": "code",
   "execution_count": 5,
   "metadata": {
    "collapsed": false
   },
   "outputs": [
    {
     "data": {
      "text/plain": [
       "array(['Abe', 'Bob', 'Dan'], dtype=object)"
      ]
     },
     "execution_count": 5,
     "metadata": {},
     "output_type": "execute_result"
    }
   ],
   "source": [
    "pd.unique(data[data['Name_y'] != 'Samsonic']['Name_x'])"
   ]
  },
  {
   "cell_type": "code",
   "execution_count": 6,
   "metadata": {
    "collapsed": false
   },
   "outputs": [
    {
     "data": {
      "text/plain": [
       "Name_x\n",
       "Bob    2\n",
       "Dan    3\n",
       "dtype: int64"
      ]
     },
     "execution_count": 6,
     "metadata": {},
     "output_type": "execute_result"
    }
   ],
   "source": [
    "data.groupby('Name_x').size()[data.groupby('Name_x').size() >= 2]"
   ]
  },
  {
   "cell_type": "code",
   "execution_count": 7,
   "metadata": {
    "collapsed": false
   },
   "outputs": [
    {
     "name": "stdout",
     "output_type": "stream",
     "text": [
      "  Name_x  Age\n",
      "0    Bob   34\n",
      "1    Ken   57\n",
      "2    Abe   61\n",
      "3    Bob   34\n",
      "4    Dan   41\n",
      "5    Dan   41\n",
      "6    Dan   41\n"
     ]
    }
   ],
   "source": [
    "highAchiever = pd.DataFrame(columns= [['Name_x', 'Age']])\n",
    "highAchiever = highAchiever.append(data[data['Salary'] > 10000][['Name_x', 'Age']])\n",
    "print highAchiever"
   ]
  },
  {
   "cell_type": "code",
   "execution_count": 8,
   "metadata": {
    "collapsed": false
   },
   "outputs": [
    {
     "name": "stdout",
     "output_type": "stream",
     "text": [
      "2016-02-14\n",
      "2016-01-13\n"
     ]
    }
   ],
   "source": [
    "today = datetime.date.today()\n",
    "print today\n",
    "print pd.to_datetime('2016-01-13').date()"
   ]
  },
  {
   "cell_type": "code",
   "execution_count": 9,
   "metadata": {
    "collapsed": false
   },
   "outputs": [
    {
     "data": {
      "text/plain": [
       "False"
      ]
     },
     "execution_count": 9,
     "metadata": {},
     "output_type": "execute_result"
    }
   ],
   "source": [
    "today - pd.to_datetime('2016-03-13').date()== datetime.timedelta(days = 30)"
   ]
  },
  {
   "cell_type": "code",
   "execution_count": 10,
   "metadata": {
    "collapsed": false
   },
   "outputs": [
    {
     "data": {
      "text/plain": [
       "[2, 7]"
      ]
     },
     "execution_count": 10,
     "metadata": {},
     "output_type": "execute_result"
    }
   ],
   "source": [
    "data.groupby('ID_x', as_index = False).size()[data.groupby('ID_x', as_index = False).size() >= 2].index.tolist()"
   ]
  },
  {
   "cell_type": "code",
   "execution_count": 11,
   "metadata": {
    "collapsed": false,
    "scrolled": true
   },
   "outputs": [
    {
     "data": {
      "text/html": [
       "<div>\n",
       "<table border=\"1\" class=\"dataframe\">\n",
       "  <thead>\n",
       "    <tr style=\"text-align: right;\">\n",
       "      <th></th>\n",
       "      <th>Number</th>\n",
       "      <th>order_date</th>\n",
       "      <th>cust_id</th>\n",
       "      <th>salesperson_id</th>\n",
       "      <th>Amount</th>\n",
       "      <th>ID_x</th>\n",
       "      <th>Name_x</th>\n",
       "      <th>Age</th>\n",
       "      <th>Salary</th>\n",
       "      <th>ID_y</th>\n",
       "      <th>Name_y</th>\n",
       "      <th>City</th>\n",
       "      <th>Industry Type</th>\n",
       "    </tr>\n",
       "  </thead>\n",
       "  <tbody>\n",
       "    <tr>\n",
       "      <th>0</th>\n",
       "      <td>10</td>\n",
       "      <td>08/02/96</td>\n",
       "      <td>4</td>\n",
       "      <td>2</td>\n",
       "      <td>2400</td>\n",
       "      <td>2</td>\n",
       "      <td>Bob</td>\n",
       "      <td>34</td>\n",
       "      <td>44000</td>\n",
       "      <td>4</td>\n",
       "      <td>Samsonic</td>\n",
       "      <td>pleasant</td>\n",
       "      <td>J</td>\n",
       "    </tr>\n",
       "    <tr>\n",
       "      <th>1</th>\n",
       "      <td>20</td>\n",
       "      <td>1/30/99</td>\n",
       "      <td>4</td>\n",
       "      <td>8</td>\n",
       "      <td>1800</td>\n",
       "      <td>8</td>\n",
       "      <td>Ken</td>\n",
       "      <td>57</td>\n",
       "      <td>115000</td>\n",
       "      <td>4</td>\n",
       "      <td>Samsonic</td>\n",
       "      <td>pleasant</td>\n",
       "      <td>J</td>\n",
       "    </tr>\n",
       "    <tr>\n",
       "      <th>2</th>\n",
       "      <td>30</td>\n",
       "      <td>7/14/95</td>\n",
       "      <td>9</td>\n",
       "      <td>1</td>\n",
       "      <td>460</td>\n",
       "      <td>1</td>\n",
       "      <td>Abe</td>\n",
       "      <td>61</td>\n",
       "      <td>140000</td>\n",
       "      <td>9</td>\n",
       "      <td>Orange</td>\n",
       "      <td>Jackson</td>\n",
       "      <td>B</td>\n",
       "    </tr>\n",
       "    <tr>\n",
       "      <th>3</th>\n",
       "      <td>40</td>\n",
       "      <td>1/29/98</td>\n",
       "      <td>7</td>\n",
       "      <td>2</td>\n",
       "      <td>540</td>\n",
       "      <td>2</td>\n",
       "      <td>Bob</td>\n",
       "      <td>34</td>\n",
       "      <td>44000</td>\n",
       "      <td>7</td>\n",
       "      <td>Samony</td>\n",
       "      <td>jackson</td>\n",
       "      <td>B</td>\n",
       "    </tr>\n",
       "    <tr>\n",
       "      <th>4</th>\n",
       "      <td>50</td>\n",
       "      <td>02/03/98</td>\n",
       "      <td>6</td>\n",
       "      <td>7</td>\n",
       "      <td>600</td>\n",
       "      <td>7</td>\n",
       "      <td>Dan</td>\n",
       "      <td>41</td>\n",
       "      <td>52000</td>\n",
       "      <td>6</td>\n",
       "      <td>Panasung</td>\n",
       "      <td>oaktown</td>\n",
       "      <td>J</td>\n",
       "    </tr>\n",
       "    <tr>\n",
       "      <th>5</th>\n",
       "      <td>60</td>\n",
       "      <td>03/02/98</td>\n",
       "      <td>6</td>\n",
       "      <td>7</td>\n",
       "      <td>720</td>\n",
       "      <td>7</td>\n",
       "      <td>Dan</td>\n",
       "      <td>41</td>\n",
       "      <td>52000</td>\n",
       "      <td>6</td>\n",
       "      <td>Panasung</td>\n",
       "      <td>oaktown</td>\n",
       "      <td>J</td>\n",
       "    </tr>\n",
       "    <tr>\n",
       "      <th>6</th>\n",
       "      <td>70</td>\n",
       "      <td>05/06/98</td>\n",
       "      <td>9</td>\n",
       "      <td>7</td>\n",
       "      <td>150</td>\n",
       "      <td>7</td>\n",
       "      <td>Dan</td>\n",
       "      <td>41</td>\n",
       "      <td>52000</td>\n",
       "      <td>9</td>\n",
       "      <td>Orange</td>\n",
       "      <td>Jackson</td>\n",
       "      <td>B</td>\n",
       "    </tr>\n",
       "  </tbody>\n",
       "</table>\n",
       "</div>"
      ],
      "text/plain": [
       "   Number order_date  cust_id  salesperson_id  Amount  ID_x Name_x  Age  \\\n",
       "0      10   08/02/96        4               2    2400     2    Bob   34   \n",
       "1      20    1/30/99        4               8    1800     8    Ken   57   \n",
       "2      30    7/14/95        9               1     460     1    Abe   61   \n",
       "3      40    1/29/98        7               2     540     2    Bob   34   \n",
       "4      50   02/03/98        6               7     600     7    Dan   41   \n",
       "5      60   03/02/98        6               7     720     7    Dan   41   \n",
       "6      70   05/06/98        9               7     150     7    Dan   41   \n",
       "\n",
       "   Salary  ID_y    Name_y      City Industry Type  \n",
       "0   44000     4  Samsonic  pleasant             J  \n",
       "1  115000     4  Samsonic  pleasant             J  \n",
       "2  140000     9    Orange   Jackson             B  \n",
       "3   44000     7    Samony   jackson             B  \n",
       "4   52000     6  Panasung   oaktown             J  \n",
       "5   52000     6  Panasung   oaktown             J  \n",
       "6   52000     9    Orange   Jackson             B  "
      ]
     },
     "execution_count": 11,
     "metadata": {},
     "output_type": "execute_result"
    }
   ],
   "source": [
    "data"
   ]
  },
  {
   "cell_type": "code",
   "execution_count": 12,
   "metadata": {
    "collapsed": false
   },
   "outputs": [
    {
     "data": {
      "text/html": [
       "<div>\n",
       "<table border=\"1\" class=\"dataframe\">\n",
       "  <thead>\n",
       "    <tr style=\"text-align: right;\">\n",
       "      <th></th>\n",
       "      <th>Number</th>\n",
       "      <th>order_date</th>\n",
       "      <th>cust_id</th>\n",
       "      <th>salesperson_id</th>\n",
       "      <th>Amount</th>\n",
       "      <th>ID_x</th>\n",
       "      <th>Name_x</th>\n",
       "      <th>Age</th>\n",
       "      <th>Salary</th>\n",
       "      <th>ID_y</th>\n",
       "      <th>Name_y</th>\n",
       "      <th>City</th>\n",
       "      <th>Industry Type</th>\n",
       "    </tr>\n",
       "  </thead>\n",
       "  <tbody>\n",
       "    <tr>\n",
       "      <th>0</th>\n",
       "      <td>10</td>\n",
       "      <td>08/02/96</td>\n",
       "      <td>4</td>\n",
       "      <td>2</td>\n",
       "      <td>2400</td>\n",
       "      <td>2</td>\n",
       "      <td>Bob</td>\n",
       "      <td>34</td>\n",
       "      <td>44000</td>\n",
       "      <td>4</td>\n",
       "      <td>Samsonic</td>\n",
       "      <td>pleasant</td>\n",
       "      <td>J</td>\n",
       "    </tr>\n",
       "    <tr>\n",
       "      <th>1</th>\n",
       "      <td>20</td>\n",
       "      <td>1/30/99</td>\n",
       "      <td>4</td>\n",
       "      <td>8</td>\n",
       "      <td>1800</td>\n",
       "      <td>8</td>\n",
       "      <td>Ken</td>\n",
       "      <td>57</td>\n",
       "      <td>115000</td>\n",
       "      <td>4</td>\n",
       "      <td>Samsonic</td>\n",
       "      <td>pleasant</td>\n",
       "      <td>J</td>\n",
       "    </tr>\n",
       "    <tr>\n",
       "      <th>2</th>\n",
       "      <td>30</td>\n",
       "      <td>7/14/95</td>\n",
       "      <td>9</td>\n",
       "      <td>1</td>\n",
       "      <td>460</td>\n",
       "      <td>1</td>\n",
       "      <td>Abe</td>\n",
       "      <td>61</td>\n",
       "      <td>140000</td>\n",
       "      <td>9</td>\n",
       "      <td>Orange</td>\n",
       "      <td>Jackson</td>\n",
       "      <td>B</td>\n",
       "    </tr>\n",
       "    <tr>\n",
       "      <th>5</th>\n",
       "      <td>60</td>\n",
       "      <td>03/02/98</td>\n",
       "      <td>6</td>\n",
       "      <td>7</td>\n",
       "      <td>720</td>\n",
       "      <td>7</td>\n",
       "      <td>Dan</td>\n",
       "      <td>41</td>\n",
       "      <td>52000</td>\n",
       "      <td>6</td>\n",
       "      <td>Panasung</td>\n",
       "      <td>oaktown</td>\n",
       "      <td>J</td>\n",
       "    </tr>\n",
       "  </tbody>\n",
       "</table>\n",
       "</div>"
      ],
      "text/plain": [
       "   Number order_date  cust_id  salesperson_id  Amount  ID_x Name_x  Age  \\\n",
       "0      10   08/02/96        4               2    2400     2    Bob   34   \n",
       "1      20    1/30/99        4               8    1800     8    Ken   57   \n",
       "2      30    7/14/95        9               1     460     1    Abe   61   \n",
       "5      60   03/02/98        6               7     720     7    Dan   41   \n",
       "\n",
       "   Salary  ID_y    Name_y      City Industry Type  \n",
       "0   44000     4  Samsonic  pleasant             J  \n",
       "1  115000     4  Samsonic  pleasant             J  \n",
       "2  140000     9    Orange   Jackson             B  \n",
       "5   52000     6  Panasung   oaktown             J  "
      ]
     },
     "execution_count": 12,
     "metadata": {},
     "output_type": "execute_result"
    }
   ],
   "source": [
    "data[data.groupby(['Name_x'])['Amount'].transform(max) == data['Amount']]"
   ]
  },
  {
   "cell_type": "code",
   "execution_count": 13,
   "metadata": {
    "collapsed": false
   },
   "outputs": [
    {
     "data": {
      "text/html": [
       "<div>\n",
       "<table border=\"1\" class=\"dataframe\">\n",
       "  <thead>\n",
       "    <tr style=\"text-align: right;\">\n",
       "      <th></th>\n",
       "      <th>Number</th>\n",
       "      <th>cust_id</th>\n",
       "      <th>Name_x</th>\n",
       "      <th>Amount</th>\n",
       "    </tr>\n",
       "  </thead>\n",
       "  <tbody>\n",
       "    <tr>\n",
       "      <th>0</th>\n",
       "      <td>10</td>\n",
       "      <td>4</td>\n",
       "      <td>Bob</td>\n",
       "      <td>2400</td>\n",
       "    </tr>\n",
       "    <tr>\n",
       "      <th>1</th>\n",
       "      <td>20</td>\n",
       "      <td>4</td>\n",
       "      <td>Ken</td>\n",
       "      <td>1800</td>\n",
       "    </tr>\n",
       "    <tr>\n",
       "      <th>2</th>\n",
       "      <td>30</td>\n",
       "      <td>9</td>\n",
       "      <td>Abe</td>\n",
       "      <td>460</td>\n",
       "    </tr>\n",
       "    <tr>\n",
       "      <th>5</th>\n",
       "      <td>60</td>\n",
       "      <td>6</td>\n",
       "      <td>Dan</td>\n",
       "      <td>720</td>\n",
       "    </tr>\n",
       "  </tbody>\n",
       "</table>\n",
       "</div>"
      ],
      "text/plain": [
       "   Number  cust_id Name_x  Amount\n",
       "0      10        4    Bob    2400\n",
       "1      20        4    Ken    1800\n",
       "2      30        9    Abe     460\n",
       "5      60        6    Dan     720"
      ]
     },
     "execution_count": 13,
     "metadata": {},
     "output_type": "execute_result"
    }
   ],
   "source": [
    "ind = data.groupby(['Name_x'])['Amount'].transform(max) == data['Amount']\n",
    "data[ind][['Number', 'cust_id', 'Name_x','Amount']]"
   ]
  },
  {
   "cell_type": "code",
   "execution_count": 14,
   "metadata": {
    "collapsed": false
   },
   "outputs": [
    {
     "data": {
      "text/html": [
       "<div>\n",
       "<table border=\"1\" class=\"dataframe\">\n",
       "  <thead>\n",
       "    <tr style=\"text-align: right;\">\n",
       "      <th></th>\n",
       "      <th>Number</th>\n",
       "      <th>order_date</th>\n",
       "      <th>cust_id</th>\n",
       "      <th>salesperson_id</th>\n",
       "      <th>Amount</th>\n",
       "      <th>ID_x</th>\n",
       "      <th>Name_x</th>\n",
       "      <th>Age</th>\n",
       "      <th>Salary</th>\n",
       "      <th>ID_y</th>\n",
       "      <th>Name_y</th>\n",
       "      <th>City</th>\n",
       "      <th>Industry Type</th>\n",
       "    </tr>\n",
       "  </thead>\n",
       "  <tbody>\n",
       "    <tr>\n",
       "      <th>0</th>\n",
       "      <td>10</td>\n",
       "      <td>08/02/96</td>\n",
       "      <td>4</td>\n",
       "      <td>2</td>\n",
       "      <td>2400</td>\n",
       "      <td>2</td>\n",
       "      <td>Bob</td>\n",
       "      <td>34</td>\n",
       "      <td>44000</td>\n",
       "      <td>4</td>\n",
       "      <td>Samsonic</td>\n",
       "      <td>pleasant</td>\n",
       "      <td>J</td>\n",
       "    </tr>\n",
       "    <tr>\n",
       "      <th>1</th>\n",
       "      <td>20</td>\n",
       "      <td>1/30/99</td>\n",
       "      <td>4</td>\n",
       "      <td>8</td>\n",
       "      <td>1800</td>\n",
       "      <td>8</td>\n",
       "      <td>Ken</td>\n",
       "      <td>57</td>\n",
       "      <td>115000</td>\n",
       "      <td>4</td>\n",
       "      <td>Samsonic</td>\n",
       "      <td>pleasant</td>\n",
       "      <td>J</td>\n",
       "    </tr>\n",
       "    <tr>\n",
       "      <th>2</th>\n",
       "      <td>30</td>\n",
       "      <td>7/14/95</td>\n",
       "      <td>9</td>\n",
       "      <td>1</td>\n",
       "      <td>460</td>\n",
       "      <td>1</td>\n",
       "      <td>Abe</td>\n",
       "      <td>61</td>\n",
       "      <td>140000</td>\n",
       "      <td>9</td>\n",
       "      <td>Orange</td>\n",
       "      <td>Jackson</td>\n",
       "      <td>B</td>\n",
       "    </tr>\n",
       "    <tr>\n",
       "      <th>3</th>\n",
       "      <td>40</td>\n",
       "      <td>1/29/98</td>\n",
       "      <td>7</td>\n",
       "      <td>2</td>\n",
       "      <td>540</td>\n",
       "      <td>2</td>\n",
       "      <td>Bob</td>\n",
       "      <td>34</td>\n",
       "      <td>44000</td>\n",
       "      <td>7</td>\n",
       "      <td>Samony</td>\n",
       "      <td>jackson</td>\n",
       "      <td>B</td>\n",
       "    </tr>\n",
       "    <tr>\n",
       "      <th>4</th>\n",
       "      <td>50</td>\n",
       "      <td>02/03/98</td>\n",
       "      <td>6</td>\n",
       "      <td>7</td>\n",
       "      <td>600</td>\n",
       "      <td>7</td>\n",
       "      <td>Dan</td>\n",
       "      <td>41</td>\n",
       "      <td>52000</td>\n",
       "      <td>6</td>\n",
       "      <td>Panasung</td>\n",
       "      <td>oaktown</td>\n",
       "      <td>J</td>\n",
       "    </tr>\n",
       "  </tbody>\n",
       "</table>\n",
       "</div>"
      ],
      "text/plain": [
       "   Number order_date  cust_id  salesperson_id  Amount  ID_x Name_x  Age  \\\n",
       "0      10   08/02/96        4               2    2400     2    Bob   34   \n",
       "1      20    1/30/99        4               8    1800     8    Ken   57   \n",
       "2      30    7/14/95        9               1     460     1    Abe   61   \n",
       "3      40    1/29/98        7               2     540     2    Bob   34   \n",
       "4      50   02/03/98        6               7     600     7    Dan   41   \n",
       "\n",
       "   Salary  ID_y    Name_y      City Industry Type  \n",
       "0   44000     4  Samsonic  pleasant             J  \n",
       "1  115000     4  Samsonic  pleasant             J  \n",
       "2  140000     9    Orange   Jackson             B  \n",
       "3   44000     7    Samony   jackson             B  \n",
       "4   52000     6  Panasung   oaktown             J  "
      ]
     },
     "execution_count": 14,
     "metadata": {},
     "output_type": "execute_result"
    }
   ],
   "source": [
    "data['Amount'].sort_values(ascending = False)[2]\n",
    "data.head()"
   ]
  },
  {
   "cell_type": "code",
   "execution_count": 15,
   "metadata": {
    "collapsed": false
   },
   "outputs": [
    {
     "data": {
      "text/html": [
       "<div>\n",
       "<table border=\"1\" class=\"dataframe\">\n",
       "  <thead>\n",
       "    <tr style=\"text-align: right;\">\n",
       "      <th></th>\n",
       "      <th>Number</th>\n",
       "      <th>order_date</th>\n",
       "      <th>cust_id</th>\n",
       "      <th>salesperson_id</th>\n",
       "      <th>Amount</th>\n",
       "      <th>ID_x</th>\n",
       "      <th>Name_x</th>\n",
       "      <th>Age</th>\n",
       "      <th>Salary</th>\n",
       "      <th>ID_y</th>\n",
       "      <th>Name_y</th>\n",
       "      <th>City</th>\n",
       "      <th>Industry Type</th>\n",
       "    </tr>\n",
       "  </thead>\n",
       "  <tbody>\n",
       "    <tr>\n",
       "      <th>0</th>\n",
       "      <td>10</td>\n",
       "      <td>1996-08-02</td>\n",
       "      <td>4</td>\n",
       "      <td>2</td>\n",
       "      <td>2400</td>\n",
       "      <td>2</td>\n",
       "      <td>Bob</td>\n",
       "      <td>34</td>\n",
       "      <td>44000</td>\n",
       "      <td>4</td>\n",
       "      <td>Samsonic</td>\n",
       "      <td>pleasant</td>\n",
       "      <td>J</td>\n",
       "    </tr>\n",
       "    <tr>\n",
       "      <th>1</th>\n",
       "      <td>20</td>\n",
       "      <td>1999-01-30</td>\n",
       "      <td>4</td>\n",
       "      <td>8</td>\n",
       "      <td>1800</td>\n",
       "      <td>8</td>\n",
       "      <td>Ken</td>\n",
       "      <td>57</td>\n",
       "      <td>115000</td>\n",
       "      <td>4</td>\n",
       "      <td>Samsonic</td>\n",
       "      <td>pleasant</td>\n",
       "      <td>J</td>\n",
       "    </tr>\n",
       "    <tr>\n",
       "      <th>2</th>\n",
       "      <td>30</td>\n",
       "      <td>1995-07-14</td>\n",
       "      <td>9</td>\n",
       "      <td>1</td>\n",
       "      <td>460</td>\n",
       "      <td>1</td>\n",
       "      <td>Abe</td>\n",
       "      <td>61</td>\n",
       "      <td>140000</td>\n",
       "      <td>9</td>\n",
       "      <td>Orange</td>\n",
       "      <td>Jackson</td>\n",
       "      <td>B</td>\n",
       "    </tr>\n",
       "    <tr>\n",
       "      <th>3</th>\n",
       "      <td>40</td>\n",
       "      <td>1998-01-29</td>\n",
       "      <td>7</td>\n",
       "      <td>2</td>\n",
       "      <td>540</td>\n",
       "      <td>2</td>\n",
       "      <td>Bob</td>\n",
       "      <td>34</td>\n",
       "      <td>44000</td>\n",
       "      <td>7</td>\n",
       "      <td>Samony</td>\n",
       "      <td>jackson</td>\n",
       "      <td>B</td>\n",
       "    </tr>\n",
       "    <tr>\n",
       "      <th>4</th>\n",
       "      <td>50</td>\n",
       "      <td>1998-02-03</td>\n",
       "      <td>6</td>\n",
       "      <td>7</td>\n",
       "      <td>600</td>\n",
       "      <td>7</td>\n",
       "      <td>Dan</td>\n",
       "      <td>41</td>\n",
       "      <td>52000</td>\n",
       "      <td>6</td>\n",
       "      <td>Panasung</td>\n",
       "      <td>oaktown</td>\n",
       "      <td>J</td>\n",
       "    </tr>\n",
       "  </tbody>\n",
       "</table>\n",
       "</div>"
      ],
      "text/plain": [
       "   Number order_date  cust_id  salesperson_id  Amount  ID_x Name_x  Age  \\\n",
       "0      10 1996-08-02        4               2    2400     2    Bob   34   \n",
       "1      20 1999-01-30        4               8    1800     8    Ken   57   \n",
       "2      30 1995-07-14        9               1     460     1    Abe   61   \n",
       "3      40 1998-01-29        7               2     540     2    Bob   34   \n",
       "4      50 1998-02-03        6               7     600     7    Dan   41   \n",
       "\n",
       "   Salary  ID_y    Name_y      City Industry Type  \n",
       "0   44000     4  Samsonic  pleasant             J  \n",
       "1  115000     4  Samsonic  pleasant             J  \n",
       "2  140000     9    Orange   Jackson             B  \n",
       "3   44000     7    Samony   jackson             B  \n",
       "4   52000     6  Panasung   oaktown             J  "
      ]
     },
     "execution_count": 15,
     "metadata": {},
     "output_type": "execute_result"
    }
   ],
   "source": [
    "data['order_date'] = pd.to_datetime(data['order_date'])\n",
    "data.head()"
   ]
  },
  {
   "cell_type": "code",
   "execution_count": 16,
   "metadata": {
    "collapsed": false
   },
   "outputs": [
    {
     "data": {
      "text/html": [
       "<div>\n",
       "<table border=\"1\" class=\"dataframe\">\n",
       "  <thead>\n",
       "    <tr style=\"text-align: right;\">\n",
       "      <th></th>\n",
       "      <th>Number</th>\n",
       "      <th>order_date</th>\n",
       "      <th>cust_id</th>\n",
       "      <th>salesperson_id</th>\n",
       "      <th>Amount</th>\n",
       "      <th>ID_x</th>\n",
       "      <th>Name_x</th>\n",
       "      <th>Age</th>\n",
       "      <th>Salary</th>\n",
       "      <th>ID_y</th>\n",
       "      <th>Name_y</th>\n",
       "      <th>City</th>\n",
       "      <th>Industry Type</th>\n",
       "    </tr>\n",
       "  </thead>\n",
       "  <tbody>\n",
       "    <tr>\n",
       "      <th>1</th>\n",
       "      <td>20</td>\n",
       "      <td>1999-01-30</td>\n",
       "      <td>4</td>\n",
       "      <td>8</td>\n",
       "      <td>1800</td>\n",
       "      <td>8</td>\n",
       "      <td>Ken</td>\n",
       "      <td>57</td>\n",
       "      <td>115000</td>\n",
       "      <td>4</td>\n",
       "      <td>Samsonic</td>\n",
       "      <td>pleasant</td>\n",
       "      <td>J</td>\n",
       "    </tr>\n",
       "  </tbody>\n",
       "</table>\n",
       "</div>"
      ],
      "text/plain": [
       "   Number order_date  cust_id  salesperson_id  Amount  ID_x Name_x  Age  \\\n",
       "1      20 1999-01-30        4               8    1800     8    Ken   57   \n",
       "\n",
       "   Salary  ID_y    Name_y      City Industry Type  \n",
       "1  115000     4  Samsonic  pleasant             J  "
      ]
     },
     "execution_count": 16,
     "metadata": {},
     "output_type": "execute_result"
    }
   ],
   "source": [
    "data[data['order_date'] > pd.to_datetime('1999-01-01')]"
   ]
  },
  {
   "cell_type": "code",
   "execution_count": 17,
   "metadata": {
    "collapsed": false
   },
   "outputs": [
    {
     "name": "stdout",
     "output_type": "stream",
     "text": [
      "1998-06-06\n"
     ]
    }
   ],
   "source": [
    "print pd.to_datetime('06/06/98', format = '%m/%d/%y').date()"
   ]
  },
  {
   "cell_type": "code",
   "execution_count": 23,
   "metadata": {
    "collapsed": false
   },
   "outputs": [
    {
     "data": {
      "text/html": [
       "<div>\n",
       "<table border=\"1\" class=\"dataframe\">\n",
       "  <thead>\n",
       "    <tr style=\"text-align: right;\">\n",
       "      <th></th>\n",
       "      <th>Number</th>\n",
       "      <th>order_date</th>\n",
       "      <th>cust_id</th>\n",
       "      <th>salesperson_id</th>\n",
       "      <th>Amount</th>\n",
       "      <th>ID_x</th>\n",
       "      <th>Name_x</th>\n",
       "      <th>Age</th>\n",
       "      <th>Salary</th>\n",
       "      <th>ID_y</th>\n",
       "      <th>Name_y</th>\n",
       "      <th>City</th>\n",
       "      <th>Industry Type</th>\n",
       "    </tr>\n",
       "  </thead>\n",
       "  <tbody>\n",
       "    <tr>\n",
       "      <th>0</th>\n",
       "      <td>10</td>\n",
       "      <td>1996-08-02</td>\n",
       "      <td>4</td>\n",
       "      <td>2</td>\n",
       "      <td>2400</td>\n",
       "      <td>2</td>\n",
       "      <td>Bob</td>\n",
       "      <td>34</td>\n",
       "      <td>44000</td>\n",
       "      <td>4</td>\n",
       "      <td>Samsonic</td>\n",
       "      <td>pleasant</td>\n",
       "      <td>J</td>\n",
       "    </tr>\n",
       "    <tr>\n",
       "      <th>1</th>\n",
       "      <td>20</td>\n",
       "      <td>1999-01-30</td>\n",
       "      <td>4</td>\n",
       "      <td>8</td>\n",
       "      <td>1800</td>\n",
       "      <td>8</td>\n",
       "      <td>Ken</td>\n",
       "      <td>57</td>\n",
       "      <td>115000</td>\n",
       "      <td>4</td>\n",
       "      <td>Samsonic</td>\n",
       "      <td>pleasant</td>\n",
       "      <td>J</td>\n",
       "    </tr>\n",
       "    <tr>\n",
       "      <th>2</th>\n",
       "      <td>30</td>\n",
       "      <td>1995-07-14</td>\n",
       "      <td>9</td>\n",
       "      <td>1</td>\n",
       "      <td>460</td>\n",
       "      <td>1</td>\n",
       "      <td>Abe</td>\n",
       "      <td>61</td>\n",
       "      <td>140000</td>\n",
       "      <td>9</td>\n",
       "      <td>Orange</td>\n",
       "      <td>Jackson</td>\n",
       "      <td>B</td>\n",
       "    </tr>\n",
       "    <tr>\n",
       "      <th>5</th>\n",
       "      <td>60</td>\n",
       "      <td>1998-03-02</td>\n",
       "      <td>6</td>\n",
       "      <td>7</td>\n",
       "      <td>720</td>\n",
       "      <td>7</td>\n",
       "      <td>Dan</td>\n",
       "      <td>41</td>\n",
       "      <td>52000</td>\n",
       "      <td>6</td>\n",
       "      <td>Panasung</td>\n",
       "      <td>oaktown</td>\n",
       "      <td>J</td>\n",
       "    </tr>\n",
       "  </tbody>\n",
       "</table>\n",
       "</div>"
      ],
      "text/plain": [
       "   Number order_date  cust_id  salesperson_id  Amount  ID_x Name_x  Age  \\\n",
       "0      10 1996-08-02        4               2    2400     2    Bob   34   \n",
       "1      20 1999-01-30        4               8    1800     8    Ken   57   \n",
       "2      30 1995-07-14        9               1     460     1    Abe   61   \n",
       "5      60 1998-03-02        6               7     720     7    Dan   41   \n",
       "\n",
       "   Salary  ID_y    Name_y      City Industry Type  \n",
       "0   44000     4  Samsonic  pleasant             J  \n",
       "1  115000     4  Samsonic  pleasant             J  \n",
       "2  140000     9    Orange   Jackson             B  \n",
       "5   52000     6  Panasung   oaktown             J  "
      ]
     },
     "execution_count": 23,
     "metadata": {},
     "output_type": "execute_result"
    }
   ],
   "source": [
    "data[data.groupby('Name_x')['Amount'].transform(max) == data['Amount']]"
   ]
  },
  {
   "cell_type": "code",
   "execution_count": 26,
   "metadata": {
    "collapsed": false
   },
   "outputs": [
    {
     "data": {
      "text/plain": [
       "array([[1, 2, 3]])"
      ]
     },
     "execution_count": 26,
     "metadata": {},
     "output_type": "execute_result"
    }
   ],
   "source": [
    "a = np.array([1, 2, 3])\n",
    "np.reshape(a, (1,3))"
   ]
  },
  {
   "cell_type": "code",
   "execution_count": null,
   "metadata": {
    "collapsed": true
   },
   "outputs": [],
   "source": []
  }
 ],
 "metadata": {
  "kernelspec": {
   "display_name": "Python 2",
   "language": "python",
   "name": "python2"
  },
  "language_info": {
   "codemirror_mode": {
    "name": "ipython",
    "version": 2
   },
   "file_extension": ".py",
   "mimetype": "text/x-python",
   "name": "python",
   "nbconvert_exporter": "python",
   "pygments_lexer": "ipython2",
   "version": "2.7.11"
  }
 },
 "nbformat": 4,
 "nbformat_minor": 0
}

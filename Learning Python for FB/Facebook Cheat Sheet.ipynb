{
 "cells": [
  {
   "cell_type": "code",
   "execution_count": 126,
   "metadata": {
    "collapsed": false
   },
   "outputs": [],
   "source": [
    "# Import important packages\n",
    "import pandas as pd\n",
    "import numpy as np\n",
    "import matplotlib.pyplot as plt\n",
    "import matplotlib\n",
    "import statsmodels.formula.api as smf\n",
    "import statsmodels.formula as sm\n",
    "import time\n",
    "import datetime"
   ]
  },
  {
   "cell_type": "markdown",
   "metadata": {},
   "source": [
    "## Reading data (using Pandas)\n",
    "\n",
    "### From .csv or .xlsx "
   ]
  },
  {
   "cell_type": "code",
   "execution_count": 31,
   "metadata": {
    "collapsed": false
   },
   "outputs": [
    {
     "data": {
      "text/html": [
       "<div>\n",
       "<table border=\"1\" class=\"dataframe\">\n",
       "  <thead>\n",
       "    <tr style=\"text-align: right;\">\n",
       "      <th></th>\n",
       "      <th>salespersonid</th>\n",
       "      <th>salespersonName</th>\n",
       "      <th>Age</th>\n",
       "      <th>Salary</th>\n",
       "    </tr>\n",
       "  </thead>\n",
       "  <tbody>\n",
       "    <tr>\n",
       "      <th>0</th>\n",
       "      <td>1</td>\n",
       "      <td>Abe</td>\n",
       "      <td>61</td>\n",
       "      <td>140000</td>\n",
       "    </tr>\n",
       "    <tr>\n",
       "      <th>1</th>\n",
       "      <td>2</td>\n",
       "      <td>Bob</td>\n",
       "      <td>34</td>\n",
       "      <td>44000</td>\n",
       "    </tr>\n",
       "    <tr>\n",
       "      <th>2</th>\n",
       "      <td>5</td>\n",
       "      <td>Chris</td>\n",
       "      <td>34</td>\n",
       "      <td>40000</td>\n",
       "    </tr>\n",
       "    <tr>\n",
       "      <th>3</th>\n",
       "      <td>7</td>\n",
       "      <td>Dan</td>\n",
       "      <td>41</td>\n",
       "      <td>52000</td>\n",
       "    </tr>\n",
       "    <tr>\n",
       "      <th>4</th>\n",
       "      <td>8</td>\n",
       "      <td>Ken</td>\n",
       "      <td>57</td>\n",
       "      <td>115000</td>\n",
       "    </tr>\n",
       "    <tr>\n",
       "      <th>5</th>\n",
       "      <td>11</td>\n",
       "      <td>Joe</td>\n",
       "      <td>38</td>\n",
       "      <td>38000</td>\n",
       "    </tr>\n",
       "  </tbody>\n",
       "</table>\n",
       "</div>"
      ],
      "text/plain": [
       "   salespersonid salespersonName  Age  Salary\n",
       "0              1             Abe   61  140000\n",
       "1              2             Bob   34   44000\n",
       "2              5           Chris   34   40000\n",
       "3              7             Dan   41   52000\n",
       "4              8             Ken   57  115000\n",
       "5             11             Joe   38   38000"
      ]
     },
     "execution_count": 31,
     "metadata": {},
     "output_type": "execute_result"
    }
   ],
   "source": [
    "## CSV\n",
    "orders = pd.read_csv('orders.csv')\n",
    "salesperson = pd.read_csv('salesperson.csv')\n",
    "salesperson.columns = ['salespersonid', 'salespersonName', 'Age', 'Salary']\n",
    "salesperson"
   ]
  },
  {
   "cell_type": "code",
   "execution_count": 32,
   "metadata": {
    "collapsed": false
   },
   "outputs": [
    {
     "data": {
      "text/html": [
       "<div>\n",
       "<table border=\"1\" class=\"dataframe\">\n",
       "  <thead>\n",
       "    <tr style=\"text-align: right;\">\n",
       "      <th></th>\n",
       "      <th>cust_id</th>\n",
       "      <th>cust_name</th>\n",
       "      <th>City</th>\n",
       "      <th>Industry Type</th>\n",
       "    </tr>\n",
       "  </thead>\n",
       "  <tbody>\n",
       "    <tr>\n",
       "      <th>0</th>\n",
       "      <td>4</td>\n",
       "      <td>Samsonic</td>\n",
       "      <td>pleasant</td>\n",
       "      <td>J</td>\n",
       "    </tr>\n",
       "    <tr>\n",
       "      <th>1</th>\n",
       "      <td>6</td>\n",
       "      <td>Panasung</td>\n",
       "      <td>oaktown</td>\n",
       "      <td>J</td>\n",
       "    </tr>\n",
       "    <tr>\n",
       "      <th>2</th>\n",
       "      <td>7</td>\n",
       "      <td>Samony</td>\n",
       "      <td>jackson</td>\n",
       "      <td>B</td>\n",
       "    </tr>\n",
       "    <tr>\n",
       "      <th>3</th>\n",
       "      <td>9</td>\n",
       "      <td>Orange</td>\n",
       "      <td>Jackson</td>\n",
       "      <td>B</td>\n",
       "    </tr>\n",
       "  </tbody>\n",
       "</table>\n",
       "</div>"
      ],
      "text/plain": [
       "   cust_id cust_name      City Industry Type\n",
       "0        4  Samsonic  pleasant             J\n",
       "1        6  Panasung   oaktown             J\n",
       "2        7    Samony   jackson             B\n",
       "3        9    Orange   Jackson             B"
      ]
     },
     "execution_count": 32,
     "metadata": {},
     "output_type": "execute_result"
    }
   ],
   "source": [
    "# XLSX\n",
    "customer = pd.read_excel('customer.xlsx')\n",
    "customer.columns = ['cust_id', 'cust_name', 'City', 'Industry Type']\n",
    "customer"
   ]
  },
  {
   "cell_type": "markdown",
   "metadata": {},
   "source": [
    "## Creating a datatime column\n",
    "\n",
    "### Changing to datatime format"
   ]
  },
  {
   "cell_type": "code",
   "execution_count": 33,
   "metadata": {
    "collapsed": false
   },
   "outputs": [],
   "source": [
    "orders['order_date'] = pd.to_datetime(orders['order_date'])"
   ]
  },
  {
   "cell_type": "markdown",
   "metadata": {},
   "source": [
    "## Merging datasets using pd.merge()"
   ]
  },
  {
   "cell_type": "code",
   "execution_count": 34,
   "metadata": {
    "collapsed": false
   },
   "outputs": [
    {
     "data": {
      "text/html": [
       "<div>\n",
       "<table border=\"1\" class=\"dataframe\">\n",
       "  <thead>\n",
       "    <tr style=\"text-align: right;\">\n",
       "      <th></th>\n",
       "      <th>Number</th>\n",
       "      <th>order_date</th>\n",
       "      <th>cust_id</th>\n",
       "      <th>salesperson_id</th>\n",
       "      <th>Amount</th>\n",
       "      <th>cust_name</th>\n",
       "      <th>City</th>\n",
       "      <th>Industry Type</th>\n",
       "      <th>salespersonName</th>\n",
       "      <th>Age</th>\n",
       "      <th>Salary</th>\n",
       "    </tr>\n",
       "  </thead>\n",
       "  <tbody>\n",
       "    <tr>\n",
       "      <th>0</th>\n",
       "      <td>10</td>\n",
       "      <td>1996-08-02</td>\n",
       "      <td>4</td>\n",
       "      <td>2</td>\n",
       "      <td>2400</td>\n",
       "      <td>Samsonic</td>\n",
       "      <td>pleasant</td>\n",
       "      <td>J</td>\n",
       "      <td>Bob</td>\n",
       "      <td>34</td>\n",
       "      <td>44000</td>\n",
       "    </tr>\n",
       "    <tr>\n",
       "      <th>1</th>\n",
       "      <td>20</td>\n",
       "      <td>1999-01-30</td>\n",
       "      <td>4</td>\n",
       "      <td>8</td>\n",
       "      <td>1800</td>\n",
       "      <td>Samsonic</td>\n",
       "      <td>pleasant</td>\n",
       "      <td>J</td>\n",
       "      <td>Ken</td>\n",
       "      <td>57</td>\n",
       "      <td>115000</td>\n",
       "    </tr>\n",
       "    <tr>\n",
       "      <th>2</th>\n",
       "      <td>30</td>\n",
       "      <td>1995-07-14</td>\n",
       "      <td>9</td>\n",
       "      <td>1</td>\n",
       "      <td>460</td>\n",
       "      <td>Orange</td>\n",
       "      <td>Jackson</td>\n",
       "      <td>B</td>\n",
       "      <td>Abe</td>\n",
       "      <td>61</td>\n",
       "      <td>140000</td>\n",
       "    </tr>\n",
       "    <tr>\n",
       "      <th>3</th>\n",
       "      <td>40</td>\n",
       "      <td>1998-01-29</td>\n",
       "      <td>7</td>\n",
       "      <td>2</td>\n",
       "      <td>540</td>\n",
       "      <td>Samony</td>\n",
       "      <td>jackson</td>\n",
       "      <td>B</td>\n",
       "      <td>Bob</td>\n",
       "      <td>34</td>\n",
       "      <td>44000</td>\n",
       "    </tr>\n",
       "    <tr>\n",
       "      <th>4</th>\n",
       "      <td>50</td>\n",
       "      <td>1998-02-03</td>\n",
       "      <td>6</td>\n",
       "      <td>7</td>\n",
       "      <td>600</td>\n",
       "      <td>Panasung</td>\n",
       "      <td>oaktown</td>\n",
       "      <td>J</td>\n",
       "      <td>Dan</td>\n",
       "      <td>41</td>\n",
       "      <td>52000</td>\n",
       "    </tr>\n",
       "    <tr>\n",
       "      <th>5</th>\n",
       "      <td>60</td>\n",
       "      <td>1998-03-02</td>\n",
       "      <td>6</td>\n",
       "      <td>7</td>\n",
       "      <td>720</td>\n",
       "      <td>Panasung</td>\n",
       "      <td>oaktown</td>\n",
       "      <td>J</td>\n",
       "      <td>Dan</td>\n",
       "      <td>41</td>\n",
       "      <td>52000</td>\n",
       "    </tr>\n",
       "    <tr>\n",
       "      <th>6</th>\n",
       "      <td>70</td>\n",
       "      <td>1998-05-06</td>\n",
       "      <td>9</td>\n",
       "      <td>7</td>\n",
       "      <td>150</td>\n",
       "      <td>Orange</td>\n",
       "      <td>Jackson</td>\n",
       "      <td>B</td>\n",
       "      <td>Dan</td>\n",
       "      <td>41</td>\n",
       "      <td>52000</td>\n",
       "    </tr>\n",
       "  </tbody>\n",
       "</table>\n",
       "</div>"
      ],
      "text/plain": [
       "   Number order_date  cust_id  salesperson_id  Amount cust_name      City  \\\n",
       "0      10 1996-08-02        4               2    2400  Samsonic  pleasant   \n",
       "1      20 1999-01-30        4               8    1800  Samsonic  pleasant   \n",
       "2      30 1995-07-14        9               1     460    Orange   Jackson   \n",
       "3      40 1998-01-29        7               2     540    Samony   jackson   \n",
       "4      50 1998-02-03        6               7     600  Panasung   oaktown   \n",
       "5      60 1998-03-02        6               7     720  Panasung   oaktown   \n",
       "6      70 1998-05-06        9               7     150    Orange   Jackson   \n",
       "\n",
       "  Industry Type salespersonName  Age  Salary  \n",
       "0             J             Bob   34   44000  \n",
       "1             J             Ken   57  115000  \n",
       "2             B             Abe   61  140000  \n",
       "3             B             Bob   34   44000  \n",
       "4             J             Dan   41   52000  \n",
       "5             J             Dan   41   52000  \n",
       "6             B             Dan   41   52000  "
      ]
     },
     "execution_count": 34,
     "metadata": {},
     "output_type": "execute_result"
    }
   ],
   "source": [
    "# first 2 datasets using LEFT JOIN\n",
    "data = pd.merge(orders, customer, left_on = 'cust_id', right_on = 'cust_id', how = 'left')\n",
    "data = pd.merge(data, salesperson, left_on = 'salesperson_id', right_on = 'salespersonid', how = 'left')\n",
    "data.drop('salespersonid', inplace = True, axis = 1)\n",
    "data"
   ]
  },
  {
   "cell_type": "markdown",
   "metadata": {},
   "source": [
    "## Subsetting / Sorting / Groupby"
   ]
  },
  {
   "cell_type": "code",
   "execution_count": 54,
   "metadata": {
    "collapsed": false
   },
   "outputs": [
    {
     "data": {
      "text/html": [
       "<div>\n",
       "<table border=\"1\" class=\"dataframe\">\n",
       "  <thead>\n",
       "    <tr style=\"text-align: right;\">\n",
       "      <th></th>\n",
       "      <th>Number</th>\n",
       "      <th>order_date</th>\n",
       "      <th>cust_id</th>\n",
       "      <th>salesperson_id</th>\n",
       "      <th>Amount</th>\n",
       "      <th>cust_name</th>\n",
       "      <th>City</th>\n",
       "      <th>Industry Type</th>\n",
       "      <th>salespersonName</th>\n",
       "      <th>Age</th>\n",
       "      <th>Salary</th>\n",
       "    </tr>\n",
       "  </thead>\n",
       "  <tbody>\n",
       "    <tr>\n",
       "      <th>1</th>\n",
       "      <td>20</td>\n",
       "      <td>1999-01-30</td>\n",
       "      <td>4</td>\n",
       "      <td>8</td>\n",
       "      <td>1800</td>\n",
       "      <td>Samsonic</td>\n",
       "      <td>pleasant</td>\n",
       "      <td>J</td>\n",
       "      <td>Ken</td>\n",
       "      <td>57</td>\n",
       "      <td>115000</td>\n",
       "    </tr>\n",
       "    <tr>\n",
       "      <th>3</th>\n",
       "      <td>40</td>\n",
       "      <td>1998-01-29</td>\n",
       "      <td>7</td>\n",
       "      <td>2</td>\n",
       "      <td>540</td>\n",
       "      <td>Samony</td>\n",
       "      <td>jackson</td>\n",
       "      <td>B</td>\n",
       "      <td>Bob</td>\n",
       "      <td>34</td>\n",
       "      <td>44000</td>\n",
       "    </tr>\n",
       "  </tbody>\n",
       "</table>\n",
       "</div>"
      ],
      "text/plain": [
       "   Number order_date  cust_id  salesperson_id  Amount cust_name      City  \\\n",
       "1      20 1999-01-30        4               8    1800  Samsonic  pleasant   \n",
       "3      40 1998-01-29        7               2     540    Samony   jackson   \n",
       "\n",
       "  Industry Type salespersonName  Age  Salary  \n",
       "1             J             Ken   57  115000  \n",
       "3             B             Bob   34   44000  "
      ]
     },
     "execution_count": 54,
     "metadata": {},
     "output_type": "execute_result"
    }
   ],
   "source": [
    "data[data['order_date'].apply(lambda x: x.month) == 1]"
   ]
  },
  {
   "cell_type": "code",
   "execution_count": 58,
   "metadata": {
    "collapsed": false
   },
   "outputs": [
    {
     "data": {
      "text/html": [
       "<div>\n",
       "<table border=\"1\" class=\"dataframe\">\n",
       "  <thead>\n",
       "    <tr style=\"text-align: right;\">\n",
       "      <th></th>\n",
       "      <th>Number</th>\n",
       "      <th>order_date</th>\n",
       "      <th>cust_id</th>\n",
       "      <th>salesperson_id</th>\n",
       "      <th>Amount</th>\n",
       "      <th>cust_name</th>\n",
       "      <th>City</th>\n",
       "      <th>Industry Type</th>\n",
       "      <th>salespersonName</th>\n",
       "      <th>Age</th>\n",
       "      <th>Salary</th>\n",
       "    </tr>\n",
       "  </thead>\n",
       "  <tbody>\n",
       "    <tr>\n",
       "      <th>1</th>\n",
       "      <td>20</td>\n",
       "      <td>1999-01-30</td>\n",
       "      <td>4</td>\n",
       "      <td>8</td>\n",
       "      <td>1800</td>\n",
       "      <td>Samsonic</td>\n",
       "      <td>pleasant</td>\n",
       "      <td>J</td>\n",
       "      <td>Ken</td>\n",
       "      <td>57</td>\n",
       "      <td>115000</td>\n",
       "    </tr>\n",
       "    <tr>\n",
       "      <th>6</th>\n",
       "      <td>70</td>\n",
       "      <td>1998-05-06</td>\n",
       "      <td>9</td>\n",
       "      <td>7</td>\n",
       "      <td>150</td>\n",
       "      <td>Orange</td>\n",
       "      <td>Jackson</td>\n",
       "      <td>B</td>\n",
       "      <td>Dan</td>\n",
       "      <td>41</td>\n",
       "      <td>52000</td>\n",
       "    </tr>\n",
       "    <tr>\n",
       "      <th>5</th>\n",
       "      <td>60</td>\n",
       "      <td>1998-03-02</td>\n",
       "      <td>6</td>\n",
       "      <td>7</td>\n",
       "      <td>720</td>\n",
       "      <td>Panasung</td>\n",
       "      <td>oaktown</td>\n",
       "      <td>J</td>\n",
       "      <td>Dan</td>\n",
       "      <td>41</td>\n",
       "      <td>52000</td>\n",
       "    </tr>\n",
       "    <tr>\n",
       "      <th>4</th>\n",
       "      <td>50</td>\n",
       "      <td>1998-02-03</td>\n",
       "      <td>6</td>\n",
       "      <td>7</td>\n",
       "      <td>600</td>\n",
       "      <td>Panasung</td>\n",
       "      <td>oaktown</td>\n",
       "      <td>J</td>\n",
       "      <td>Dan</td>\n",
       "      <td>41</td>\n",
       "      <td>52000</td>\n",
       "    </tr>\n",
       "    <tr>\n",
       "      <th>3</th>\n",
       "      <td>40</td>\n",
       "      <td>1998-01-29</td>\n",
       "      <td>7</td>\n",
       "      <td>2</td>\n",
       "      <td>540</td>\n",
       "      <td>Samony</td>\n",
       "      <td>jackson</td>\n",
       "      <td>B</td>\n",
       "      <td>Bob</td>\n",
       "      <td>34</td>\n",
       "      <td>44000</td>\n",
       "    </tr>\n",
       "    <tr>\n",
       "      <th>0</th>\n",
       "      <td>10</td>\n",
       "      <td>1996-08-02</td>\n",
       "      <td>4</td>\n",
       "      <td>2</td>\n",
       "      <td>2400</td>\n",
       "      <td>Samsonic</td>\n",
       "      <td>pleasant</td>\n",
       "      <td>J</td>\n",
       "      <td>Bob</td>\n",
       "      <td>34</td>\n",
       "      <td>44000</td>\n",
       "    </tr>\n",
       "    <tr>\n",
       "      <th>2</th>\n",
       "      <td>30</td>\n",
       "      <td>1995-07-14</td>\n",
       "      <td>9</td>\n",
       "      <td>1</td>\n",
       "      <td>460</td>\n",
       "      <td>Orange</td>\n",
       "      <td>Jackson</td>\n",
       "      <td>B</td>\n",
       "      <td>Abe</td>\n",
       "      <td>61</td>\n",
       "      <td>140000</td>\n",
       "    </tr>\n",
       "  </tbody>\n",
       "</table>\n",
       "</div>"
      ],
      "text/plain": [
       "   Number order_date  cust_id  salesperson_id  Amount cust_name      City  \\\n",
       "1      20 1999-01-30        4               8    1800  Samsonic  pleasant   \n",
       "6      70 1998-05-06        9               7     150    Orange   Jackson   \n",
       "5      60 1998-03-02        6               7     720  Panasung   oaktown   \n",
       "4      50 1998-02-03        6               7     600  Panasung   oaktown   \n",
       "3      40 1998-01-29        7               2     540    Samony   jackson   \n",
       "0      10 1996-08-02        4               2    2400  Samsonic  pleasant   \n",
       "2      30 1995-07-14        9               1     460    Orange   Jackson   \n",
       "\n",
       "  Industry Type salespersonName  Age  Salary  \n",
       "1             J             Ken   57  115000  \n",
       "6             B             Dan   41   52000  \n",
       "5             J             Dan   41   52000  \n",
       "4             J             Dan   41   52000  \n",
       "3             B             Bob   34   44000  \n",
       "0             J             Bob   34   44000  \n",
       "2             B             Abe   61  140000  "
      ]
     },
     "execution_count": 58,
     "metadata": {},
     "output_type": "execute_result"
    }
   ],
   "source": [
    "data.sort_values('order_date', ascending = False)"
   ]
  },
  {
   "cell_type": "code",
   "execution_count": 71,
   "metadata": {
    "collapsed": false
   },
   "outputs": [
    {
     "data": {
      "text/html": [
       "<div>\n",
       "<table border=\"1\" class=\"dataframe\">\n",
       "  <thead>\n",
       "    <tr style=\"text-align: right;\">\n",
       "      <th></th>\n",
       "      <th>Number</th>\n",
       "      <th>order_date</th>\n",
       "      <th>cust_id</th>\n",
       "      <th>salesperson_id</th>\n",
       "      <th>Amount</th>\n",
       "      <th>cust_name</th>\n",
       "      <th>City</th>\n",
       "      <th>Industry Type</th>\n",
       "      <th>salespersonName</th>\n",
       "      <th>Age</th>\n",
       "      <th>Salary</th>\n",
       "    </tr>\n",
       "  </thead>\n",
       "  <tbody>\n",
       "    <tr>\n",
       "      <th>1</th>\n",
       "      <td>20</td>\n",
       "      <td>1999-01-30</td>\n",
       "      <td>4</td>\n",
       "      <td>8</td>\n",
       "      <td>1800</td>\n",
       "      <td>Samsonic</td>\n",
       "      <td>pleasant</td>\n",
       "      <td>J</td>\n",
       "      <td>Ken</td>\n",
       "      <td>57</td>\n",
       "      <td>115000</td>\n",
       "    </tr>\n",
       "    <tr>\n",
       "      <th>2</th>\n",
       "      <td>30</td>\n",
       "      <td>1995-07-14</td>\n",
       "      <td>9</td>\n",
       "      <td>1</td>\n",
       "      <td>460</td>\n",
       "      <td>Orange</td>\n",
       "      <td>Jackson</td>\n",
       "      <td>B</td>\n",
       "      <td>Abe</td>\n",
       "      <td>61</td>\n",
       "      <td>140000</td>\n",
       "    </tr>\n",
       "    <tr>\n",
       "      <th>3</th>\n",
       "      <td>40</td>\n",
       "      <td>1998-01-29</td>\n",
       "      <td>7</td>\n",
       "      <td>2</td>\n",
       "      <td>540</td>\n",
       "      <td>Samony</td>\n",
       "      <td>jackson</td>\n",
       "      <td>B</td>\n",
       "      <td>Bob</td>\n",
       "      <td>34</td>\n",
       "      <td>44000</td>\n",
       "    </tr>\n",
       "    <tr>\n",
       "      <th>6</th>\n",
       "      <td>70</td>\n",
       "      <td>1998-05-06</td>\n",
       "      <td>9</td>\n",
       "      <td>7</td>\n",
       "      <td>150</td>\n",
       "      <td>Orange</td>\n",
       "      <td>Jackson</td>\n",
       "      <td>B</td>\n",
       "      <td>Dan</td>\n",
       "      <td>41</td>\n",
       "      <td>52000</td>\n",
       "    </tr>\n",
       "  </tbody>\n",
       "</table>\n",
       "</div>"
      ],
      "text/plain": [
       "   Number order_date  cust_id  salesperson_id  Amount cust_name      City  \\\n",
       "1      20 1999-01-30        4               8    1800  Samsonic  pleasant   \n",
       "2      30 1995-07-14        9               1     460    Orange   Jackson   \n",
       "3      40 1998-01-29        7               2     540    Samony   jackson   \n",
       "6      70 1998-05-06        9               7     150    Orange   Jackson   \n",
       "\n",
       "  Industry Type salespersonName  Age  Salary  \n",
       "1             J             Ken   57  115000  \n",
       "2             B             Abe   61  140000  \n",
       "3             B             Bob   34   44000  \n",
       "6             B             Dan   41   52000  "
      ]
     },
     "execution_count": 71,
     "metadata": {},
     "output_type": "execute_result"
    }
   ],
   "source": [
    "data[data.groupby('salespersonName')['order_date'].transform(max) == data['order_date']]"
   ]
  },
  {
   "cell_type": "code",
   "execution_count": 76,
   "metadata": {
    "collapsed": false
   },
   "outputs": [
    {
     "data": {
      "text/html": [
       "<div>\n",
       "<table border=\"1\" class=\"dataframe\">\n",
       "  <thead>\n",
       "    <tr style=\"text-align: right;\">\n",
       "      <th></th>\n",
       "      <th>Number</th>\n",
       "      <th>order_date</th>\n",
       "      <th>cust_id</th>\n",
       "      <th>salesperson_id</th>\n",
       "      <th>Amount</th>\n",
       "      <th>cust_name</th>\n",
       "      <th>City</th>\n",
       "      <th>Industry Type</th>\n",
       "      <th>salespersonName</th>\n",
       "      <th>Age</th>\n",
       "      <th>Salary</th>\n",
       "    </tr>\n",
       "  </thead>\n",
       "  <tbody>\n",
       "    <tr>\n",
       "      <th>5</th>\n",
       "      <td>60</td>\n",
       "      <td>1998-03-02</td>\n",
       "      <td>6</td>\n",
       "      <td>7</td>\n",
       "      <td>720</td>\n",
       "      <td>Panasung</td>\n",
       "      <td>oaktown</td>\n",
       "      <td>J</td>\n",
       "      <td>Dan</td>\n",
       "      <td>41</td>\n",
       "      <td>52000</td>\n",
       "    </tr>\n",
       "  </tbody>\n",
       "</table>\n",
       "</div>"
      ],
      "text/plain": [
       "   Number order_date  cust_id  salesperson_id  Amount cust_name     City  \\\n",
       "5      60 1998-03-02        6               7     720  Panasung  oaktown   \n",
       "\n",
       "  Industry Type salespersonName  Age  Salary  \n",
       "5             J             Dan   41   52000  "
      ]
     },
     "execution_count": 76,
     "metadata": {},
     "output_type": "execute_result"
    }
   ],
   "source": [
    "data[data['order_date'].isin(pd.date_range('1998-03-01', '1998-03-17'))]"
   ]
  },
  {
   "cell_type": "code",
   "execution_count": 96,
   "metadata": {
    "collapsed": false
   },
   "outputs": [
    {
     "data": {
      "text/plain": [
       "0    False\n",
       "1     True\n",
       "2    False\n",
       "3    False\n",
       "4    False\n",
       "5    False\n",
       "6    False\n",
       "Name: order_date, dtype: bool"
      ]
     },
     "execution_count": 96,
     "metadata": {},
     "output_type": "execute_result"
    }
   ],
   "source": [
    "(data['order_date'].apply(lambda x: x.month) == 1) & "
   ]
  },
  {
   "cell_type": "code",
   "execution_count": null,
   "metadata": {
    "collapsed": false
   },
   "outputs": [],
   "source": []
  },
  {
   "cell_type": "code",
   "execution_count": null,
   "metadata": {
    "collapsed": false
   },
   "outputs": [],
   "source": []
  },
  {
   "cell_type": "code",
   "execution_count": null,
   "metadata": {
    "collapsed": true
   },
   "outputs": [],
   "source": []
  }
 ],
 "metadata": {
  "kernelspec": {
   "display_name": "Python 2",
   "language": "python",
   "name": "python2"
  },
  "language_info": {
   "codemirror_mode": {
    "name": "ipython",
    "version": 2
   },
   "file_extension": ".py",
   "mimetype": "text/x-python",
   "name": "python",
   "nbconvert_exporter": "python",
   "pygments_lexer": "ipython2",
   "version": "2.7.11"
  }
 },
 "nbformat": 4,
 "nbformat_minor": 0
}

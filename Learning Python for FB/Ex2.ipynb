{
 "cells": [
  {
   "cell_type": "code",
   "execution_count": 274,
   "metadata": {
    "collapsed": false
   },
   "outputs": [],
   "source": [
    "import pandas as pd\n",
    "import numpy as np\n",
    "import statsmodels.formula.api as smf\n",
    "import statsmodels.api as sm\n",
    "import matplotlib.pyplot as plt\n",
    "import matplotlib as mlt\n",
    "%matplotlib inline\n",
    "import datetime as dt"
   ]
  },
  {
   "cell_type": "code",
   "execution_count": 275,
   "metadata": {
    "collapsed": false
   },
   "outputs": [
    {
     "name": "stdout",
     "output_type": "stream",
     "text": [
      "   customerid order_date        item  quantity  price\n",
      "0       10330  30-Jun-99  Pogo stick         1     28\n",
      "1       10101  30-Jun-99        Raft         1     58\n",
      "2       10298  01-Jul-99  Skateboard         1     33\n",
      "3       10101  01-Jul-99   Life Vest         4    125\n",
      "4       10299  06-Jul-99   Parachute         1   1250\n",
      "   customerid firstname lastname        city       state\n",
      "0       10101      John     Gray      Lynden  Washington\n",
      "1       10298     Leroy    Brown     Pinetop     Arizona\n",
      "2       10299     Elroy   Keller  Snoqualmie  Washington\n",
      "3       10315      Lisa    Jones     Oshkosh   Wisconsin\n",
      "4       10325    Ginger  Schultz   Pocatello       Idaho\n"
     ]
    }
   ],
   "source": [
    "customers = pd.read_csv('customers.csv')\n",
    "items = pd.read_csv('items.csv')\n",
    "print items.head()\n",
    "print customers.head()"
   ]
  },
  {
   "cell_type": "code",
   "execution_count": 276,
   "metadata": {
    "collapsed": false
   },
   "outputs": [
    {
     "name": "stdout",
     "output_type": "stream",
     "text": [
      "    customerid          item   price\n",
      "6        10449      Unicycle  180.79\n",
      "9        10449    Snow Shoes   45.00\n",
      "16       10449       Bicycle  380.50\n",
      "17       10449         Canoe  280.00\n",
      "26       10449    Flashlight    4.50\n",
      "29       10449  Canoe paddle   40.00\n"
     ]
    }
   ],
   "source": [
    "print items[items['customerid'] == 10449][['customerid','item','price']]"
   ]
  },
  {
   "cell_type": "code",
   "execution_count": 277,
   "metadata": {
    "collapsed": false
   },
   "outputs": [
    {
     "name": "stdout",
     "output_type": "stream",
     "text": [
      "    customerid order_date  item  quantity  price\n",
      "10       10439  18-Sep-99  Tent         1  88.00\n",
      "22       10438  18-Jan-00  Tent         1  79.99\n"
     ]
    }
   ],
   "source": [
    "print items[items['item'] == 'Tent']"
   ]
  },
  {
   "cell_type": "code",
   "execution_count": 278,
   "metadata": {
    "collapsed": false
   },
   "outputs": [
    {
     "name": "stdout",
     "output_type": "stream",
     "text": [
      "    customerid order_date          item  quantity  price\n",
      "2        10298  01-Jul-99    Skateboard         1  33.00\n",
      "7        10439  14-Aug-99     Ski Poles         2  25.50\n",
      "9        10449  01-Sep-99    Snow Shoes         1  45.00\n",
      "12       10410  28-Oct-99  Sleeping Bag         1  89.22\n",
      "27       10101  08-Mar-00  Sleeping Bag         2  88.70\n",
      "31       10330  19-Apr-00        Shovel         1  16.75\n"
     ]
    }
   ],
   "source": [
    "print items[items['item'].str.contains(r'S')]"
   ]
  },
  {
   "cell_type": "code",
   "execution_count": 279,
   "metadata": {
    "collapsed": false
   },
   "outputs": [
    {
     "name": "stdout",
     "output_type": "stream",
     "text": [
      "['Pogo stick' 'Raft' 'Skateboard' 'Life Vest' 'Parachute' 'Umbrella'\n",
      " 'Unicycle' 'Ski Poles' 'Rain Coat' 'Snow Shoes' 'Tent' 'Lantern'\n",
      " 'Sleeping Bag' 'Pillow' 'Helmet' 'Bicycle' 'Canoe' 'Hoola Hoop'\n",
      " 'Flashlight' 'Inflatable Mattress' 'Lawnchair' 'Compass' 'Pocket Knife'\n",
      " 'Canoe paddle' 'Ear Muffs' 'Shovel']\n"
     ]
    }
   ],
   "source": [
    "print pd.unique(items['item'])"
   ]
  },
  {
   "cell_type": "code",
   "execution_count": 280,
   "metadata": {
    "collapsed": false
   },
   "outputs": [
    {
     "name": "stdout",
     "output_type": "stream",
     "text": [
      "4    1250\n",
      "Name: price, dtype: float64\n"
     ]
    }
   ],
   "source": [
    "print items[items['price'] == max(items['price'])]['price']"
   ]
  },
  {
   "cell_type": "code",
   "execution_count": 281,
   "metadata": {
    "collapsed": false
   },
   "outputs": [
    {
     "name": "stdout",
     "output_type": "stream",
     "text": [
      "174.3125\n"
     ]
    }
   ],
   "source": [
    "print np.mean(items[items['order_date'].str.contains('Dec')]['price'])"
   ]
  },
  {
   "cell_type": "code",
   "execution_count": 282,
   "metadata": {
    "collapsed": false
   },
   "outputs": [
    {
     "name": "stdout",
     "output_type": "stream",
     "text": [
      "32\n"
     ]
    }
   ],
   "source": [
    "print items.shape[0]"
   ]
  },
  {
   "cell_type": "code",
   "execution_count": 283,
   "metadata": {
    "collapsed": false
   },
   "outputs": [
    {
     "name": "stdout",
     "output_type": "stream",
     "text": [
      "79.99\n"
     ]
    }
   ],
   "source": [
    "print min(items[items['item'] == 'Tent']['price'])"
   ]
  },
  {
   "cell_type": "code",
   "execution_count": 284,
   "metadata": {
    "collapsed": false
   },
   "outputs": [
    {
     "name": "stdout",
     "output_type": "stream",
     "text": [
      "state\n",
      "Arizona           6\n",
      "Colorado          2\n",
      "Hawaii            1\n",
      "Idaho             1\n",
      "North Carolina    1\n",
      "Oregon            2\n",
      "South Carolina    1\n",
      "Washington        2\n",
      "Wisconsin         1\n",
      "dtype: int64\n"
     ]
    }
   ],
   "source": [
    "print customers.groupby('state').size()"
   ]
  },
  {
   "cell_type": "code",
   "execution_count": 285,
   "metadata": {
    "collapsed": false
   },
   "outputs": [
    {
     "name": "stdout",
     "output_type": "stream",
     "text": [
      "                       price         \n",
      "                         min      max\n",
      "item                                 \n",
      "Bicycle               380.50   380.50\n",
      "Canoe                 280.00   280.00\n",
      "Canoe paddle           40.00    40.00\n",
      "Compass                 8.00     8.00\n",
      "Ear Muffs              12.50    12.50\n",
      "Flashlight              4.50    28.00\n",
      "Helmet                 22.00    22.00\n",
      "Hoola Hoop             14.75    14.75\n",
      "Inflatable Mattress    38.00    38.00\n",
      "Lantern                16.00    29.00\n",
      "Lawnchair              32.00    32.00\n",
      "Life Vest             125.00   125.00\n",
      "Parachute            1250.00  1250.00\n",
      "Pillow                  8.50     8.50\n",
      "Pocket Knife           22.38    22.38\n",
      "Pogo stick             28.00    28.00\n",
      "Raft                   58.00    58.00\n",
      "Rain Coat              18.30    18.30\n",
      "Shovel                 16.75    16.75\n",
      "Skateboard             33.00    33.00\n",
      "Ski Poles              25.50    25.50\n",
      "Sleeping Bag           88.70    89.22\n",
      "Snow Shoes             45.00    45.00\n",
      "Tent                   79.99    88.00\n",
      "Umbrella                4.50     6.75\n",
      "Unicycle              180.79   192.50\n"
     ]
    }
   ],
   "source": [
    "print items.groupby('item').agg({'price': [min, max]})"
   ]
  },
  {
   "cell_type": "code",
   "execution_count": 286,
   "metadata": {
    "collapsed": false
   },
   "outputs": [
    {
     "name": "stdout",
     "output_type": "stream",
     "text": [
      "              price quantity\n",
      "                sum      sum\n",
      "customerid                  \n",
      "10101        320.75       12\n",
      "10298        118.88        6\n",
      "10299       1288.00        2\n",
      "10315          8.00        1\n",
      "10330         72.75        6\n",
      "10339          4.50        1\n",
      "10410        281.72        2\n",
      "10413         32.00        4\n",
      "10438         95.24        3\n",
      "10439        113.50        3\n",
      "10449        930.79        7\n"
     ]
    }
   ],
   "source": [
    "print items.groupby('customerid').agg({'quantity': [sum], 'price': [sum]})"
   ]
  },
  {
   "cell_type": "code",
   "execution_count": 287,
   "metadata": {
    "collapsed": false
   },
   "outputs": [
    {
     "name": "stdout",
     "output_type": "stream",
     "text": [
      "state\n",
      "Arizona       6\n",
      "Colorado      2\n",
      "Oregon        2\n",
      "Washington    2\n",
      "dtype: int64\n"
     ]
    }
   ],
   "source": [
    "print customers.groupby('state').size()[customers.groupby('state').size()>1]"
   ]
  },
  {
   "cell_type": "code",
   "execution_count": 288,
   "metadata": {
    "collapsed": false
   },
   "outputs": [
    {
     "name": "stdout",
     "output_type": "stream",
     "text": [
      "             price        \n",
      "               min     max\n",
      "item                      \n",
      "Bicycle     380.50   380.5\n",
      "Canoe       280.00   280.0\n",
      "Parachute  1250.00  1250.0\n",
      "Unicycle    180.79   192.5\n"
     ]
    }
   ],
   "source": [
    "ind = items.groupby('item').agg({'price':[min,max]})['price']['max'] > 190\n",
    "d = items.groupby('item').agg({'price':[min,max]})\n",
    "print d[ind]"
   ]
  },
  {
   "cell_type": "code",
   "execution_count": 289,
   "metadata": {
    "collapsed": false
   },
   "outputs": [
    {
     "name": "stdout",
     "output_type": "stream",
     "text": [
      "              price quantity\n",
      "                sum     size\n",
      "customerid                  \n",
      "10101        320.75        6\n",
      "10298        118.88        5\n",
      "10299       1288.00        2\n",
      "10330         72.75        3\n",
      "10410        281.72        2\n",
      "10438         95.24        3\n",
      "10439        113.50        2\n",
      "10449        930.79        6\n"
     ]
    }
   ],
   "source": [
    "ind2 = items.groupby('customerid').agg({'quantity': np.size, 'price' : [sum]})['quantity']['size'] > 1\n",
    "d = items.groupby('customerid').agg({'quantity': np.size, 'price' : [sum]})\n",
    "print d[ind2]"
   ]
  },
  {
   "cell_type": "code",
   "execution_count": 290,
   "metadata": {
    "collapsed": false
   },
   "outputs": [
    {
     "name": "stdout",
     "output_type": "stream",
     "text": [
      "    lastname firstname          city\n",
      "14     Smith     Kevin       Durango\n",
      "4    Schultz    Ginger     Pocatello\n",
      "8    Sanchez   Anthony       Winslow\n",
      "12  Sakahara     Linda       Nogales\n",
      "16     Moore   Isabela          Yuma\n",
      "5    Mendoza     Kelly        Kailua\n",
      "2     Keller     Elroy    Snoqualmie\n",
      "3      Jones      Lisa       Oshkosh\n",
      "7     Howell   Michael     Tillamook\n",
      "10    Howell  Mary Ann    Charleston\n",
      "0       Gray      John        Lynden\n",
      "13    Graham     Sarah    Greensboro\n",
      "15     Giles    Conrad     Telluride\n",
      "11    Davids    Donald     Gila Bend\n",
      "6     Dalton     Shawn  Cannon Beach\n",
      "9    Cleaver     Elroy         Globe\n",
      "1      Brown     Leroy       Pinetop\n"
     ]
    }
   ],
   "source": [
    "print customers[['lastname','firstname', 'city']].sort_values('lastname', ascending = False)"
   ]
  },
  {
   "cell_type": "code",
   "execution_count": 291,
   "metadata": {
    "collapsed": false
   },
   "outputs": [
    {
     "name": "stdout",
     "output_type": "stream",
     "text": [
      "                   item    price\n",
      "30            Ear Muffs    12.50\n",
      "18           Hoola Hoop    14.75\n",
      "20              Lantern    16.00\n",
      "31               Shovel    16.75\n",
      "8             Rain Coat    18.30\n",
      "15               Helmet    22.00\n",
      "28         Pocket Knife    22.38\n",
      "7             Ski Poles    25.50\n",
      "19           Flashlight    28.00\n",
      "0            Pogo stick    28.00\n",
      "11              Lantern    29.00\n",
      "23            Lawnchair    32.00\n",
      "2            Skateboard    33.00\n",
      "21  Inflatable Mattress    38.00\n",
      "29         Canoe paddle    40.00\n",
      "9            Snow Shoes    45.00\n",
      "1                  Raft    58.00\n",
      "22                 Tent    79.99\n",
      "10                 Tent    88.00\n",
      "27         Sleeping Bag    88.70\n",
      "12         Sleeping Bag    89.22\n",
      "3             Life Vest   125.00\n",
      "6              Unicycle   180.79\n",
      "24             Unicycle   192.50\n",
      "17                Canoe   280.00\n",
      "16              Bicycle   380.50\n",
      "4             Parachute  1250.00\n"
     ]
    }
   ],
   "source": [
    "print items[items['price'] > 10.00][['item','price']].sort_values('price', ascending = True)"
   ]
  },
  {
   "cell_type": "code",
   "execution_count": 292,
   "metadata": {
    "collapsed": false
   },
   "outputs": [
    {
     "name": "stdout",
     "output_type": "stream",
     "text": [
      "    customerid                 item order_date\n",
      "0        10330           Pogo stick  30-Jun-99\n",
      "1        10101                 Raft  30-Jun-99\n",
      "2        10298           Skateboard  01-Jul-99\n",
      "3        10101            Life Vest  01-Jul-99\n",
      "4        10299            Parachute  06-Jul-99\n",
      "5        10339             Umbrella  27-Jul-99\n",
      "6        10449             Unicycle  13-Aug-99\n",
      "7        10439            Ski Poles  14-Aug-99\n",
      "8        10101            Rain Coat  18-Aug-99\n",
      "9        10449           Snow Shoes  01-Sep-99\n",
      "10       10439                 Tent  18-Sep-99\n",
      "11       10298              Lantern  19-Sep-99\n",
      "12       10410         Sleeping Bag  28-Oct-99\n",
      "13       10438             Umbrella  01-Nov-99\n",
      "14       10438               Pillow  02-Nov-99\n",
      "15       10298               Helmet  01-Dec-99\n",
      "16       10449              Bicycle  15-Dec-99\n",
      "17       10449                Canoe  22-Dec-99\n",
      "18       10101           Hoola Hoop  30-Dec-99\n",
      "19       10330           Flashlight  01-Jan-00\n",
      "20       10101              Lantern  02-Jan-00\n",
      "21       10299  Inflatable Mattress  18-Jan-00\n",
      "22       10438                 Tent  18-Jan-00\n",
      "23       10413            Lawnchair  19-Jan-00\n",
      "24       10410             Unicycle  30-Jan-00\n",
      "25       10315              Compass  02-Feb-00\n",
      "26       10449           Flashlight  29-Feb-00\n",
      "27       10101         Sleeping Bag  08-Mar-00\n",
      "28       10298         Pocket Knife  18-Mar-00\n",
      "29       10449         Canoe paddle  19-Mar-00\n",
      "30       10298            Ear Muffs  01-Apr-00\n",
      "31       10330               Shovel  19-Apr-00\n"
     ]
    }
   ],
   "source": [
    "print items[(items['item'] != 'Snow Shoes') | (items['item'] != 'Ear Muffs')][['customerid','item','order_date']]"
   ]
  },
  {
   "cell_type": "code",
   "execution_count": 293,
   "metadata": {
    "collapsed": false
   },
   "outputs": [
    {
     "name": "stdout",
     "output_type": "stream",
     "text": [
      "            item    price\n",
      "0     Pogo stick    28.00\n",
      "2     Skateboard    33.00\n",
      "4      Parachute  1250.00\n",
      "7      Ski Poles    25.50\n",
      "9     Snow Shoes    45.00\n",
      "12  Sleeping Bag    89.22\n",
      "14        Pillow     8.50\n",
      "19    Flashlight    28.00\n",
      "26    Flashlight     4.50\n",
      "27  Sleeping Bag    88.70\n",
      "28  Pocket Knife    22.38\n",
      "31        Shovel    16.75\n"
     ]
    }
   ],
   "source": [
    "print items[items.item.str.match(r'[P,F,S]')][['item', 'price']]"
   ]
  },
  {
   "cell_type": "code",
   "execution_count": 294,
   "metadata": {
    "collapsed": false
   },
   "outputs": [
    {
     "name": "stdout",
     "output_type": "stream",
     "text": [
      "   order_date                 item  price\n",
      "0   30-Jun-99           Pogo stick  28.00\n",
      "1   30-Jun-99                 Raft  58.00\n",
      "2   01-Jul-99           Skateboard  33.00\n",
      "7   14-Aug-99            Ski Poles  25.50\n",
      "8   18-Aug-99            Rain Coat  18.30\n",
      "9   01-Sep-99           Snow Shoes  45.00\n",
      "11  19-Sep-99              Lantern  29.00\n",
      "15  01-Dec-99               Helmet  22.00\n",
      "18  30-Dec-99           Hoola Hoop  14.75\n",
      "19  01-Jan-00           Flashlight  28.00\n",
      "20  02-Jan-00              Lantern  16.00\n",
      "21  18-Jan-00  Inflatable Mattress  38.00\n",
      "22  18-Jan-00                 Tent  79.99\n",
      "23  19-Jan-00            Lawnchair  32.00\n",
      "28  18-Mar-00         Pocket Knife  22.38\n",
      "29  19-Mar-00         Canoe paddle  40.00\n",
      "30  01-Apr-00            Ear Muffs  12.50\n",
      "31  19-Apr-00               Shovel  16.75\n"
     ]
    }
   ],
   "source": [
    "print items[(items['price'] > 10.00 ) & (items['price'] < 80.00)][['order_date','item','price']]"
   ]
  },
  {
   "cell_type": "code",
   "execution_count": 295,
   "metadata": {
    "collapsed": false
   },
   "outputs": [
    {
     "name": "stdout",
     "output_type": "stream",
     "text": [
      "   firstname          city           state\n",
      "0       John        Lynden      Washington\n",
      "1      Leroy       Pinetop         Arizona\n",
      "2      Elroy    Snoqualmie      Washington\n",
      "3       Lisa       Oshkosh       Wisconsin\n",
      "5      Kelly        Kailua          Hawaii\n",
      "6      Shawn  Cannon Beach          Oregon\n",
      "7    Michael     Tillamook          Oregon\n",
      "8    Anthony       Winslow         Arizona\n",
      "9      Elroy         Globe         Arizona\n",
      "10  Mary Ann    Charleston  South Carolina\n",
      "11    Donald     Gila Bend         Arizona\n",
      "12     Linda       Nogales         Arizona\n",
      "13     Sarah    Greensboro  North Carolina\n",
      "14     Kevin       Durango        Colorado\n",
      "15    Conrad     Telluride        Colorado\n",
      "16   Isabela          Yuma         Arizona\n"
     ]
    }
   ],
   "source": [
    "print customers[customers['state'].str.contains(r'[A,W,O,C,H]')][['firstname','city','state']]"
   ]
  },
  {
   "cell_type": "code",
   "execution_count": 296,
   "metadata": {
    "collapsed": false
   },
   "outputs": [
    {
     "name": "stdout",
     "output_type": "stream",
     "text": [
      "                   item    price_per\n",
      "16              Bicycle   380.500000\n",
      "17                Canoe   280.000000\n",
      "29         Canoe paddle    20.000000\n",
      "25              Compass     8.000000\n",
      "30            Ear Muffs    12.500000\n",
      "19           Flashlight     7.000000\n",
      "26           Flashlight     4.500000\n",
      "15               Helmet    22.000000\n",
      "18           Hoola Hoop     4.916667\n",
      "21  Inflatable Mattress    38.000000\n",
      "20              Lantern    16.000000\n",
      "11              Lantern    14.500000\n",
      "23            Lawnchair     8.000000\n",
      "3             Life Vest    31.250000\n",
      "4             Parachute  1250.000000\n",
      "14               Pillow     8.500000\n",
      "28         Pocket Knife    22.380000\n",
      "0            Pogo stick    28.000000\n",
      "1                  Raft    58.000000\n",
      "8             Rain Coat    18.300000\n",
      "31               Shovel    16.750000\n",
      "2            Skateboard    33.000000\n",
      "7             Ski Poles    12.750000\n",
      "12         Sleeping Bag    89.220000\n",
      "27         Sleeping Bag    44.350000\n",
      "9            Snow Shoes    45.000000\n",
      "10                 Tent    88.000000\n",
      "22                 Tent    79.990000\n",
      "5              Umbrella     4.500000\n",
      "13             Umbrella     6.750000\n",
      "24             Unicycle   192.500000\n",
      "6              Unicycle   180.790000\n"
     ]
    }
   ],
   "source": [
    "items['price_per'] = items['price']/items['quantity']\n",
    "print items[['item', 'price_per']].sort_values('item')"
   ]
  },
  {
   "cell_type": "code",
   "execution_count": 297,
   "metadata": {
    "collapsed": false
   },
   "outputs": [
    {
     "name": "stdout",
     "output_type": "stream",
     "text": [
      "    customerid           state firstname lastname                 item  \\\n",
      "13       10315       Wisconsin      Lisa    Jones              Compass   \n",
      "0        10101      Washington      John     Gray                 Raft   \n",
      "2        10101      Washington      John     Gray            Rain Coat   \n",
      "3        10101      Washington      John     Gray           Hoola Hoop   \n",
      "4        10101      Washington      John     Gray              Lantern   \n",
      "5        10101      Washington      John     Gray         Sleeping Bag   \n",
      "1        10101      Washington      John     Gray            Life Vest   \n",
      "11       10299      Washington     Elroy   Keller            Parachute   \n",
      "12       10299      Washington     Elroy   Keller  Inflatable Mattress   \n",
      "19       10410  South Carolina  Mary Ann   Howell             Unicycle   \n",
      "18       10410  South Carolina  Mary Ann   Howell         Sleeping Bag   \n",
      "15       10330          Oregon     Shawn   Dalton           Flashlight   \n",
      "14       10330          Oregon     Shawn   Dalton           Pogo stick   \n",
      "16       10330          Oregon     Shawn   Dalton               Shovel   \n",
      "23       10438        Colorado     Kevin    Smith                 Tent   \n",
      "24       10439        Colorado    Conrad    Giles            Ski Poles   \n",
      "21       10438        Colorado     Kevin    Smith             Umbrella   \n",
      "22       10438        Colorado     Kevin    Smith               Pillow   \n",
      "25       10439        Colorado    Conrad    Giles                 Tent   \n",
      "30       10449         Arizona   Isabela    Moore           Flashlight   \n",
      "29       10449         Arizona   Isabela    Moore                Canoe   \n",
      "28       10449         Arizona   Isabela    Moore              Bicycle   \n",
      "27       10449         Arizona   Isabela    Moore           Snow Shoes   \n",
      "26       10449         Arizona   Isabela    Moore             Unicycle   \n",
      "10       10298         Arizona     Leroy    Brown            Ear Muffs   \n",
      "9        10298         Arizona     Leroy    Brown         Pocket Knife   \n",
      "20       10413         Arizona    Donald   Davids            Lawnchair   \n",
      "6        10298         Arizona     Leroy    Brown           Skateboard   \n",
      "7        10298         Arizona     Leroy    Brown              Lantern   \n",
      "17       10339         Arizona   Anthony  Sanchez             Umbrella   \n",
      "8        10298         Arizona     Leroy    Brown               Helmet   \n",
      "31       10449         Arizona   Isabela    Moore         Canoe paddle   \n",
      "\n",
      "   order_date    price  \n",
      "13  02-Feb-00     8.00  \n",
      "0   30-Jun-99    58.00  \n",
      "2   18-Aug-99    18.30  \n",
      "3   30-Dec-99    14.75  \n",
      "4   02-Jan-00    16.00  \n",
      "5   08-Mar-00    88.70  \n",
      "1   01-Jul-99   125.00  \n",
      "11  06-Jul-99  1250.00  \n",
      "12  18-Jan-00    38.00  \n",
      "19  30-Jan-00   192.50  \n",
      "18  28-Oct-99    89.22  \n",
      "15  01-Jan-00    28.00  \n",
      "14  30-Jun-99    28.00  \n",
      "16  19-Apr-00    16.75  \n",
      "23  18-Jan-00    79.99  \n",
      "24  14-Aug-99    25.50  \n",
      "21  01-Nov-99     6.75  \n",
      "22  02-Nov-99     8.50  \n",
      "25  18-Sep-99    88.00  \n",
      "30  29-Feb-00     4.50  \n",
      "29  22-Dec-99   280.00  \n",
      "28  15-Dec-99   380.50  \n",
      "27  01-Sep-99    45.00  \n",
      "26  13-Aug-99   180.79  \n",
      "10  01-Apr-00    12.50  \n",
      "9   18-Mar-00    22.38  \n",
      "20  19-Jan-00    32.00  \n",
      "6   01-Jul-99    33.00  \n",
      "7   19-Sep-99    29.00  \n",
      "17  27-Jul-99     4.50  \n",
      "8   01-Dec-99    22.00  \n",
      "31  19-Mar-00    40.00  \n"
     ]
    }
   ],
   "source": [
    "print pd.merge(customers, items, on = 'customerid', how = 'inner')[['customerid', 'state','firstname','lastname','item', 'order_date', 'price']].sort_values(['state'], ascending = False)"
   ]
  },
  {
   "cell_type": "code",
   "execution_count": 298,
   "metadata": {
    "collapsed": false
   },
   "outputs": [
    {
     "data": {
      "text/plain": [
       "0     30-Jun-99\n",
       "1     30-Jun-99\n",
       "2     01-Jul-99\n",
       "3     01-Jul-99\n",
       "4     06-Jul-99\n",
       "5     27-Jul-99\n",
       "6     13-Aug-99\n",
       "7     14-Aug-99\n",
       "8     18-Aug-99\n",
       "9     01-Sep-99\n",
       "10    18-Sep-99\n",
       "11    19-Sep-99\n",
       "12    28-Oct-99\n",
       "13    01-Nov-99\n",
       "14    02-Nov-99\n",
       "15    01-Dec-99\n",
       "16    15-Dec-99\n",
       "17    22-Dec-99\n",
       "18    30-Dec-99\n",
       "19    01-Jan-00\n",
       "20    02-Jan-00\n",
       "21    18-Jan-00\n",
       "22    18-Jan-00\n",
       "23    19-Jan-00\n",
       "24    30-Jan-00\n",
       "25    02-Feb-00\n",
       "26    29-Feb-00\n",
       "27    08-Mar-00\n",
       "28    18-Mar-00\n",
       "29    19-Mar-00\n",
       "30    01-Apr-00\n",
       "31    19-Apr-00\n",
       "Name: order_date, dtype: object"
      ]
     },
     "execution_count": 298,
     "metadata": {},
     "output_type": "execute_result"
    }
   ],
   "source": [
    "items.order_date"
   ]
  },
  {
   "cell_type": "code",
   "execution_count": 365,
   "metadata": {
    "collapsed": false
   },
   "outputs": [
    {
     "data": {
      "text/html": [
       "<div>\n",
       "<table border=\"1\" class=\"dataframe\">\n",
       "  <thead>\n",
       "    <tr style=\"text-align: right;\">\n",
       "      <th></th>\n",
       "      <th>customerid</th>\n",
       "      <th>order_date</th>\n",
       "      <th>item</th>\n",
       "      <th>quantity</th>\n",
       "      <th>price</th>\n",
       "      <th>price_per</th>\n",
       "    </tr>\n",
       "  </thead>\n",
       "  <tbody>\n",
       "    <tr>\n",
       "      <th>20</th>\n",
       "      <td>10101</td>\n",
       "      <td>2000-01-02</td>\n",
       "      <td>Lantern</td>\n",
       "      <td>1</td>\n",
       "      <td>16.00</td>\n",
       "      <td>16.00</td>\n",
       "    </tr>\n",
       "    <tr>\n",
       "      <th>21</th>\n",
       "      <td>10299</td>\n",
       "      <td>2000-01-18</td>\n",
       "      <td>Inflatable Mattress</td>\n",
       "      <td>1</td>\n",
       "      <td>38.00</td>\n",
       "      <td>38.00</td>\n",
       "    </tr>\n",
       "    <tr>\n",
       "      <th>22</th>\n",
       "      <td>10438</td>\n",
       "      <td>2000-01-18</td>\n",
       "      <td>Tent</td>\n",
       "      <td>1</td>\n",
       "      <td>79.99</td>\n",
       "      <td>79.99</td>\n",
       "    </tr>\n",
       "    <tr>\n",
       "      <th>23</th>\n",
       "      <td>10413</td>\n",
       "      <td>2000-01-19</td>\n",
       "      <td>Lawnchair</td>\n",
       "      <td>4</td>\n",
       "      <td>32.00</td>\n",
       "      <td>8.00</td>\n",
       "    </tr>\n",
       "    <tr>\n",
       "      <th>24</th>\n",
       "      <td>10410</td>\n",
       "      <td>2000-01-30</td>\n",
       "      <td>Unicycle</td>\n",
       "      <td>1</td>\n",
       "      <td>192.50</td>\n",
       "      <td>192.50</td>\n",
       "    </tr>\n",
       "    <tr>\n",
       "      <th>25</th>\n",
       "      <td>10315</td>\n",
       "      <td>2000-02-02</td>\n",
       "      <td>Compass</td>\n",
       "      <td>1</td>\n",
       "      <td>8.00</td>\n",
       "      <td>8.00</td>\n",
       "    </tr>\n",
       "    <tr>\n",
       "      <th>26</th>\n",
       "      <td>10449</td>\n",
       "      <td>2000-02-29</td>\n",
       "      <td>Flashlight</td>\n",
       "      <td>1</td>\n",
       "      <td>4.50</td>\n",
       "      <td>4.50</td>\n",
       "    </tr>\n",
       "    <tr>\n",
       "      <th>27</th>\n",
       "      <td>10101</td>\n",
       "      <td>2000-03-08</td>\n",
       "      <td>Sleeping Bag</td>\n",
       "      <td>2</td>\n",
       "      <td>88.70</td>\n",
       "      <td>44.35</td>\n",
       "    </tr>\n",
       "    <tr>\n",
       "      <th>28</th>\n",
       "      <td>10298</td>\n",
       "      <td>2000-03-18</td>\n",
       "      <td>Pocket Knife</td>\n",
       "      <td>1</td>\n",
       "      <td>22.38</td>\n",
       "      <td>22.38</td>\n",
       "    </tr>\n",
       "    <tr>\n",
       "      <th>29</th>\n",
       "      <td>10449</td>\n",
       "      <td>2000-03-19</td>\n",
       "      <td>Canoe paddle</td>\n",
       "      <td>2</td>\n",
       "      <td>40.00</td>\n",
       "      <td>20.00</td>\n",
       "    </tr>\n",
       "    <tr>\n",
       "      <th>30</th>\n",
       "      <td>10298</td>\n",
       "      <td>2000-04-01</td>\n",
       "      <td>Ear Muffs</td>\n",
       "      <td>1</td>\n",
       "      <td>12.50</td>\n",
       "      <td>12.50</td>\n",
       "    </tr>\n",
       "    <tr>\n",
       "      <th>31</th>\n",
       "      <td>10330</td>\n",
       "      <td>2000-04-19</td>\n",
       "      <td>Shovel</td>\n",
       "      <td>1</td>\n",
       "      <td>16.75</td>\n",
       "      <td>16.75</td>\n",
       "    </tr>\n",
       "  </tbody>\n",
       "</table>\n",
       "</div>"
      ],
      "text/plain": [
       "    customerid order_date                 item  quantity   price  price_per\n",
       "20       10101 2000-01-02              Lantern         1   16.00      16.00\n",
       "21       10299 2000-01-18  Inflatable Mattress         1   38.00      38.00\n",
       "22       10438 2000-01-18                 Tent         1   79.99      79.99\n",
       "23       10413 2000-01-19            Lawnchair         4   32.00       8.00\n",
       "24       10410 2000-01-30             Unicycle         1  192.50     192.50\n",
       "25       10315 2000-02-02              Compass         1    8.00       8.00\n",
       "26       10449 2000-02-29           Flashlight         1    4.50       4.50\n",
       "27       10101 2000-03-08         Sleeping Bag         2   88.70      44.35\n",
       "28       10298 2000-03-18         Pocket Knife         1   22.38      22.38\n",
       "29       10449 2000-03-19         Canoe paddle         2   40.00      20.00\n",
       "30       10298 2000-04-01            Ear Muffs         1   12.50      12.50\n",
       "31       10330 2000-04-19               Shovel         1   16.75      16.75"
      ]
     },
     "execution_count": 365,
     "metadata": {},
     "output_type": "execute_result"
    }
   ],
   "source": [
    "items['order_date'] = pd.to_datetime(items.order_date)\n",
    "items[items['order_date'] > pd.to_datetime('2000-01-01')]"
   ]
  },
  {
   "cell_type": "code",
   "execution_count": 300,
   "metadata": {
    "collapsed": false
   },
   "outputs": [
    {
     "data": {
      "text/html": [
       "<div>\n",
       "<table border=\"1\" class=\"dataframe\">\n",
       "  <thead>\n",
       "    <tr style=\"text-align: right;\">\n",
       "      <th></th>\n",
       "      <th>customerid</th>\n",
       "      <th>order_date</th>\n",
       "      <th>item</th>\n",
       "      <th>quantity</th>\n",
       "      <th>price</th>\n",
       "      <th>price_per</th>\n",
       "    </tr>\n",
       "  </thead>\n",
       "  <tbody>\n",
       "    <tr>\n",
       "      <th>31</th>\n",
       "      <td>10330</td>\n",
       "      <td>2000-04-19</td>\n",
       "      <td>Shovel</td>\n",
       "      <td>1</td>\n",
       "      <td>16.75</td>\n",
       "      <td>16.75</td>\n",
       "    </tr>\n",
       "  </tbody>\n",
       "</table>\n",
       "</div>"
      ],
      "text/plain": [
       "    customerid order_date    item  quantity  price  price_per\n",
       "31       10330 2000-04-19  Shovel         1  16.75      16.75"
      ]
     },
     "execution_count": 300,
     "metadata": {},
     "output_type": "execute_result"
    }
   ],
   "source": [
    "items[dt.date.today() - items.order_date == min(dt.date.today() - items.order_date)]"
   ]
  },
  {
   "cell_type": "code",
   "execution_count": 404,
   "metadata": {
    "collapsed": false
   },
   "outputs": [
    {
     "data": {
      "text/html": [
       "<div>\n",
       "<table border=\"1\" class=\"dataframe\">\n",
       "  <thead>\n",
       "    <tr style=\"text-align: right;\">\n",
       "      <th></th>\n",
       "      <th>customerid</th>\n",
       "      <th>item</th>\n",
       "    </tr>\n",
       "  </thead>\n",
       "  <tbody>\n",
       "    <tr>\n",
       "      <th>0</th>\n",
       "      <td>10439</td>\n",
       "      <td>1</td>\n",
       "    </tr>\n",
       "    <tr>\n",
       "      <th>1</th>\n",
       "      <td>10449</td>\n",
       "      <td>2</td>\n",
       "    </tr>\n",
       "  </tbody>\n",
       "</table>\n",
       "</div>"
      ],
      "text/plain": [
       "   customerid  item\n",
       "0       10439     1\n",
       "1       10449     2"
      ]
     },
     "execution_count": 404,
     "metadata": {},
     "output_type": "execute_result"
    }
   ],
   "source": [
    "q = items[(items['order_date'].map(lambda x: x.day) > 10) & (items['order_date'].map(lambda x: x.day) < 17)]\n",
    "q.groupby(['customerid'], as_index = False)['item'].count()"
   ]
  },
  {
   "cell_type": "code",
   "execution_count": 411,
   "metadata": {
    "collapsed": false
   },
   "outputs": [
    {
     "data": {
      "text/html": [
       "<div>\n",
       "<table border=\"1\" class=\"dataframe\">\n",
       "  <thead>\n",
       "    <tr style=\"text-align: right;\">\n",
       "      <th></th>\n",
       "      <th>customerid</th>\n",
       "      <th>order_date</th>\n",
       "      <th>quantity</th>\n",
       "      <th>price</th>\n",
       "    </tr>\n",
       "  </thead>\n",
       "  <tbody>\n",
       "    <tr>\n",
       "      <th>0</th>\n",
       "      <td>10101</td>\n",
       "      <td>1999-06-30</td>\n",
       "      <td>1</td>\n",
       "      <td>58.00</td>\n",
       "    </tr>\n",
       "    <tr>\n",
       "      <th>1</th>\n",
       "      <td>10101</td>\n",
       "      <td>1999-07-01</td>\n",
       "      <td>4</td>\n",
       "      <td>125.00</td>\n",
       "    </tr>\n",
       "    <tr>\n",
       "      <th>2</th>\n",
       "      <td>10101</td>\n",
       "      <td>1999-08-18</td>\n",
       "      <td>1</td>\n",
       "      <td>18.30</td>\n",
       "    </tr>\n",
       "    <tr>\n",
       "      <th>3</th>\n",
       "      <td>10101</td>\n",
       "      <td>1999-12-30</td>\n",
       "      <td>3</td>\n",
       "      <td>14.75</td>\n",
       "    </tr>\n",
       "    <tr>\n",
       "      <th>4</th>\n",
       "      <td>10101</td>\n",
       "      <td>2000-01-02</td>\n",
       "      <td>1</td>\n",
       "      <td>16.00</td>\n",
       "    </tr>\n",
       "    <tr>\n",
       "      <th>5</th>\n",
       "      <td>10101</td>\n",
       "      <td>2000-03-08</td>\n",
       "      <td>2</td>\n",
       "      <td>88.70</td>\n",
       "    </tr>\n",
       "    <tr>\n",
       "      <th>6</th>\n",
       "      <td>10298</td>\n",
       "      <td>1999-07-01</td>\n",
       "      <td>1</td>\n",
       "      <td>33.00</td>\n",
       "    </tr>\n",
       "    <tr>\n",
       "      <th>7</th>\n",
       "      <td>10298</td>\n",
       "      <td>1999-09-19</td>\n",
       "      <td>2</td>\n",
       "      <td>29.00</td>\n",
       "    </tr>\n",
       "    <tr>\n",
       "      <th>8</th>\n",
       "      <td>10298</td>\n",
       "      <td>1999-12-01</td>\n",
       "      <td>1</td>\n",
       "      <td>22.00</td>\n",
       "    </tr>\n",
       "    <tr>\n",
       "      <th>9</th>\n",
       "      <td>10298</td>\n",
       "      <td>2000-03-18</td>\n",
       "      <td>1</td>\n",
       "      <td>22.38</td>\n",
       "    </tr>\n",
       "    <tr>\n",
       "      <th>10</th>\n",
       "      <td>10298</td>\n",
       "      <td>2000-04-01</td>\n",
       "      <td>1</td>\n",
       "      <td>12.50</td>\n",
       "    </tr>\n",
       "    <tr>\n",
       "      <th>11</th>\n",
       "      <td>10299</td>\n",
       "      <td>1999-07-06</td>\n",
       "      <td>1</td>\n",
       "      <td>1250.00</td>\n",
       "    </tr>\n",
       "    <tr>\n",
       "      <th>12</th>\n",
       "      <td>10299</td>\n",
       "      <td>2000-01-18</td>\n",
       "      <td>1</td>\n",
       "      <td>38.00</td>\n",
       "    </tr>\n",
       "    <tr>\n",
       "      <th>13</th>\n",
       "      <td>10315</td>\n",
       "      <td>2000-02-02</td>\n",
       "      <td>1</td>\n",
       "      <td>8.00</td>\n",
       "    </tr>\n",
       "    <tr>\n",
       "      <th>14</th>\n",
       "      <td>10330</td>\n",
       "      <td>1999-06-30</td>\n",
       "      <td>1</td>\n",
       "      <td>28.00</td>\n",
       "    </tr>\n",
       "    <tr>\n",
       "      <th>15</th>\n",
       "      <td>10330</td>\n",
       "      <td>2000-01-01</td>\n",
       "      <td>4</td>\n",
       "      <td>28.00</td>\n",
       "    </tr>\n",
       "    <tr>\n",
       "      <th>16</th>\n",
       "      <td>10330</td>\n",
       "      <td>2000-04-19</td>\n",
       "      <td>1</td>\n",
       "      <td>16.75</td>\n",
       "    </tr>\n",
       "    <tr>\n",
       "      <th>17</th>\n",
       "      <td>10339</td>\n",
       "      <td>1999-07-27</td>\n",
       "      <td>1</td>\n",
       "      <td>4.50</td>\n",
       "    </tr>\n",
       "    <tr>\n",
       "      <th>18</th>\n",
       "      <td>10410</td>\n",
       "      <td>1999-10-28</td>\n",
       "      <td>1</td>\n",
       "      <td>89.22</td>\n",
       "    </tr>\n",
       "    <tr>\n",
       "      <th>19</th>\n",
       "      <td>10410</td>\n",
       "      <td>2000-01-30</td>\n",
       "      <td>1</td>\n",
       "      <td>192.50</td>\n",
       "    </tr>\n",
       "    <tr>\n",
       "      <th>20</th>\n",
       "      <td>10413</td>\n",
       "      <td>2000-01-19</td>\n",
       "      <td>4</td>\n",
       "      <td>32.00</td>\n",
       "    </tr>\n",
       "    <tr>\n",
       "      <th>21</th>\n",
       "      <td>10438</td>\n",
       "      <td>1999-11-01</td>\n",
       "      <td>1</td>\n",
       "      <td>6.75</td>\n",
       "    </tr>\n",
       "    <tr>\n",
       "      <th>22</th>\n",
       "      <td>10438</td>\n",
       "      <td>1999-11-02</td>\n",
       "      <td>1</td>\n",
       "      <td>8.50</td>\n",
       "    </tr>\n",
       "    <tr>\n",
       "      <th>23</th>\n",
       "      <td>10438</td>\n",
       "      <td>2000-01-18</td>\n",
       "      <td>1</td>\n",
       "      <td>79.99</td>\n",
       "    </tr>\n",
       "    <tr>\n",
       "      <th>24</th>\n",
       "      <td>10439</td>\n",
       "      <td>1999-08-14</td>\n",
       "      <td>2</td>\n",
       "      <td>25.50</td>\n",
       "    </tr>\n",
       "    <tr>\n",
       "      <th>25</th>\n",
       "      <td>10439</td>\n",
       "      <td>1999-09-18</td>\n",
       "      <td>1</td>\n",
       "      <td>88.00</td>\n",
       "    </tr>\n",
       "    <tr>\n",
       "      <th>26</th>\n",
       "      <td>10449</td>\n",
       "      <td>1999-08-13</td>\n",
       "      <td>1</td>\n",
       "      <td>180.79</td>\n",
       "    </tr>\n",
       "    <tr>\n",
       "      <th>27</th>\n",
       "      <td>10449</td>\n",
       "      <td>1999-09-01</td>\n",
       "      <td>1</td>\n",
       "      <td>45.00</td>\n",
       "    </tr>\n",
       "    <tr>\n",
       "      <th>28</th>\n",
       "      <td>10449</td>\n",
       "      <td>1999-12-15</td>\n",
       "      <td>1</td>\n",
       "      <td>380.50</td>\n",
       "    </tr>\n",
       "    <tr>\n",
       "      <th>29</th>\n",
       "      <td>10449</td>\n",
       "      <td>1999-12-22</td>\n",
       "      <td>1</td>\n",
       "      <td>280.00</td>\n",
       "    </tr>\n",
       "    <tr>\n",
       "      <th>30</th>\n",
       "      <td>10449</td>\n",
       "      <td>2000-02-29</td>\n",
       "      <td>1</td>\n",
       "      <td>4.50</td>\n",
       "    </tr>\n",
       "    <tr>\n",
       "      <th>31</th>\n",
       "      <td>10449</td>\n",
       "      <td>2000-03-19</td>\n",
       "      <td>2</td>\n",
       "      <td>40.00</td>\n",
       "    </tr>\n",
       "  </tbody>\n",
       "</table>\n",
       "</div>"
      ],
      "text/plain": [
       "    customerid order_date  quantity    price\n",
       "0        10101 1999-06-30         1    58.00\n",
       "1        10101 1999-07-01         4   125.00\n",
       "2        10101 1999-08-18         1    18.30\n",
       "3        10101 1999-12-30         3    14.75\n",
       "4        10101 2000-01-02         1    16.00\n",
       "5        10101 2000-03-08         2    88.70\n",
       "6        10298 1999-07-01         1    33.00\n",
       "7        10298 1999-09-19         2    29.00\n",
       "8        10298 1999-12-01         1    22.00\n",
       "9        10298 2000-03-18         1    22.38\n",
       "10       10298 2000-04-01         1    12.50\n",
       "11       10299 1999-07-06         1  1250.00\n",
       "12       10299 2000-01-18         1    38.00\n",
       "13       10315 2000-02-02         1     8.00\n",
       "14       10330 1999-06-30         1    28.00\n",
       "15       10330 2000-01-01         4    28.00\n",
       "16       10330 2000-04-19         1    16.75\n",
       "17       10339 1999-07-27         1     4.50\n",
       "18       10410 1999-10-28         1    89.22\n",
       "19       10410 2000-01-30         1   192.50\n",
       "20       10413 2000-01-19         4    32.00\n",
       "21       10438 1999-11-01         1     6.75\n",
       "22       10438 1999-11-02         1     8.50\n",
       "23       10438 2000-01-18         1    79.99\n",
       "24       10439 1999-08-14         2    25.50\n",
       "25       10439 1999-09-18         1    88.00\n",
       "26       10449 1999-08-13         1   180.79\n",
       "27       10449 1999-09-01         1    45.00\n",
       "28       10449 1999-12-15         1   380.50\n",
       "29       10449 1999-12-22         1   280.00\n",
       "30       10449 2000-02-29         1     4.50\n",
       "31       10449 2000-03-19         2    40.00"
      ]
     },
     "execution_count": 411,
     "metadata": {},
     "output_type": "execute_result"
    }
   ],
   "source": [
    "grouped_items = items.groupby(['customerid', 'order_date'], as_index = False).mean()\n",
    "grouped_items.drop(['price_per'], axis = 1)\n"
   ]
  },
  {
   "cell_type": "code",
   "execution_count": 302,
   "metadata": {
    "collapsed": false
   },
   "outputs": [
    {
     "data": {
      "text/html": [
       "<div>\n",
       "<table border=\"1\" class=\"dataframe\">\n",
       "  <thead>\n",
       "    <tr style=\"text-align: right;\">\n",
       "      <th></th>\n",
       "      <th>customerid</th>\n",
       "      <th>order_date</th>\n",
       "    </tr>\n",
       "  </thead>\n",
       "  <tbody>\n",
       "    <tr>\n",
       "      <th>0</th>\n",
       "      <td>10101</td>\n",
       "      <td>2000-03-08</td>\n",
       "    </tr>\n",
       "    <tr>\n",
       "      <th>1</th>\n",
       "      <td>10298</td>\n",
       "      <td>2000-04-01</td>\n",
       "    </tr>\n",
       "    <tr>\n",
       "      <th>2</th>\n",
       "      <td>10299</td>\n",
       "      <td>2000-01-18</td>\n",
       "    </tr>\n",
       "    <tr>\n",
       "      <th>3</th>\n",
       "      <td>10315</td>\n",
       "      <td>2000-02-02</td>\n",
       "    </tr>\n",
       "    <tr>\n",
       "      <th>4</th>\n",
       "      <td>10330</td>\n",
       "      <td>2000-04-19</td>\n",
       "    </tr>\n",
       "    <tr>\n",
       "      <th>5</th>\n",
       "      <td>10339</td>\n",
       "      <td>1999-07-27</td>\n",
       "    </tr>\n",
       "    <tr>\n",
       "      <th>6</th>\n",
       "      <td>10410</td>\n",
       "      <td>2000-01-30</td>\n",
       "    </tr>\n",
       "    <tr>\n",
       "      <th>7</th>\n",
       "      <td>10413</td>\n",
       "      <td>2000-01-19</td>\n",
       "    </tr>\n",
       "    <tr>\n",
       "      <th>8</th>\n",
       "      <td>10438</td>\n",
       "      <td>2000-01-18</td>\n",
       "    </tr>\n",
       "    <tr>\n",
       "      <th>9</th>\n",
       "      <td>10439</td>\n",
       "      <td>1999-09-18</td>\n",
       "    </tr>\n",
       "    <tr>\n",
       "      <th>10</th>\n",
       "      <td>10449</td>\n",
       "      <td>2000-03-19</td>\n",
       "    </tr>\n",
       "  </tbody>\n",
       "</table>\n",
       "</div>"
      ],
      "text/plain": [
       "    customerid order_date\n",
       "0        10101 2000-03-08\n",
       "1        10298 2000-04-01\n",
       "2        10299 2000-01-18\n",
       "3        10315 2000-02-02\n",
       "4        10330 2000-04-19\n",
       "5        10339 1999-07-27\n",
       "6        10410 2000-01-30\n",
       "7        10413 2000-01-19\n",
       "8        10438 2000-01-18\n",
       "9        10439 1999-09-18\n",
       "10       10449 2000-03-19"
      ]
     },
     "execution_count": 302,
     "metadata": {},
     "output_type": "execute_result"
    }
   ],
   "source": [
    "items.groupby('customerid', as_index = False).max()[['customerid','order_date']]"
   ]
  },
  {
   "cell_type": "code",
   "execution_count": 303,
   "metadata": {
    "collapsed": false
   },
   "outputs": [
    {
     "data": {
      "text/html": [
       "<div>\n",
       "<table border=\"1\" class=\"dataframe\">\n",
       "  <thead>\n",
       "    <tr style=\"text-align: right;\">\n",
       "      <th></th>\n",
       "      <th>customerid</th>\n",
       "      <th>order_date</th>\n",
       "      <th>item</th>\n",
       "      <th>quantity</th>\n",
       "      <th>price</th>\n",
       "      <th>price_per</th>\n",
       "    </tr>\n",
       "  </thead>\n",
       "  <tbody>\n",
       "    <tr>\n",
       "      <th>21</th>\n",
       "      <td>10299</td>\n",
       "      <td>2000-01-18</td>\n",
       "      <td>Inflatable Mattress</td>\n",
       "      <td>1</td>\n",
       "      <td>38.00</td>\n",
       "      <td>38.00</td>\n",
       "    </tr>\n",
       "    <tr>\n",
       "      <th>22</th>\n",
       "      <td>10438</td>\n",
       "      <td>2000-01-18</td>\n",
       "      <td>Tent</td>\n",
       "      <td>1</td>\n",
       "      <td>79.99</td>\n",
       "      <td>79.99</td>\n",
       "    </tr>\n",
       "    <tr>\n",
       "      <th>27</th>\n",
       "      <td>10101</td>\n",
       "      <td>2000-03-08</td>\n",
       "      <td>Sleeping Bag</td>\n",
       "      <td>2</td>\n",
       "      <td>88.70</td>\n",
       "      <td>44.35</td>\n",
       "    </tr>\n",
       "  </tbody>\n",
       "</table>\n",
       "</div>"
      ],
      "text/plain": [
       "    customerid order_date                 item  quantity  price  price_per\n",
       "21       10299 2000-01-18  Inflatable Mattress         1  38.00      38.00\n",
       "22       10438 2000-01-18                 Tent         1  79.99      79.99\n",
       "27       10101 2000-03-08         Sleeping Bag         2  88.70      44.35"
      ]
     },
     "execution_count": 303,
     "metadata": {},
     "output_type": "execute_result"
    }
   ],
   "source": [
    "items[items['order_date'].isin(['2000-03-08', '2000-01-18'])]"
   ]
  },
  {
   "cell_type": "code",
   "execution_count": 304,
   "metadata": {
    "collapsed": true
   },
   "outputs": [],
   "source": [
    "d = [['Pallavi', 32], ['Arjun', 12], ['Bhsi', 10], ['examo', 79]]"
   ]
  },
  {
   "cell_type": "code",
   "execution_count": 305,
   "metadata": {
    "collapsed": false
   },
   "outputs": [
    {
     "data": {
      "text/html": [
       "<div>\n",
       "<table border=\"1\" class=\"dataframe\">\n",
       "  <thead>\n",
       "    <tr style=\"text-align: right;\">\n",
       "      <th></th>\n",
       "      <th>customerid</th>\n",
       "      <th>order_date</th>\n",
       "      <th>item</th>\n",
       "      <th>quantity</th>\n",
       "      <th>price</th>\n",
       "      <th>price_per</th>\n",
       "    </tr>\n",
       "  </thead>\n",
       "  <tbody>\n",
       "    <tr>\n",
       "      <th>1</th>\n",
       "      <td>10101</td>\n",
       "      <td>1999-06-30</td>\n",
       "      <td>Raft</td>\n",
       "      <td>1</td>\n",
       "      <td>58</td>\n",
       "      <td>58</td>\n",
       "    </tr>\n",
       "  </tbody>\n",
       "</table>\n",
       "</div>"
      ],
      "text/plain": [
       "   customerid order_date  item  quantity  price  price_per\n",
       "1       10101 1999-06-30  Raft         1     58         58"
      ]
     },
     "execution_count": 305,
     "metadata": {},
     "output_type": "execute_result"
    }
   ],
   "source": [
    "items[1:2][:]"
   ]
  },
  {
   "cell_type": "code",
   "execution_count": 306,
   "metadata": {
    "collapsed": false
   },
   "outputs": [
    {
     "data": {
      "text/plain": [
       "[['Pallavi', 32], ['Arjun', 12], ['Bhsi', 10], ['examo', 79]]"
      ]
     },
     "execution_count": 306,
     "metadata": {},
     "output_type": "execute_result"
    }
   ],
   "source": [
    "np.array(d).sort(axis = 1)\n",
    "d"
   ]
  },
  {
   "cell_type": "code",
   "execution_count": 307,
   "metadata": {
    "collapsed": false
   },
   "outputs": [
    {
     "data": {
      "text/html": [
       "<div>\n",
       "<table border=\"1\" class=\"dataframe\">\n",
       "  <thead>\n",
       "    <tr style=\"text-align: right;\">\n",
       "      <th></th>\n",
       "      <th>price</th>\n",
       "      <th>item</th>\n",
       "    </tr>\n",
       "  </thead>\n",
       "  <tbody>\n",
       "    <tr>\n",
       "      <th>16</th>\n",
       "      <td>380.5</td>\n",
       "      <td>Bicycle</td>\n",
       "    </tr>\n",
       "  </tbody>\n",
       "</table>\n",
       "</div>"
      ],
      "text/plain": [
       "    price     item\n",
       "16  380.5  Bicycle"
      ]
     },
     "execution_count": 307,
     "metadata": {},
     "output_type": "execute_result"
    }
   ],
   "source": [
    "items.sort_values('price', ascending = False)[1:2][['price', 'item']]"
   ]
  },
  {
   "cell_type": "code",
   "execution_count": 308,
   "metadata": {
    "collapsed": false
   },
   "outputs": [],
   "source": [
    "url = r'https://raw.github.com/gjreda/best-sandwiches/master/data/best-sandwiches-geocode.tsv'\n",
    "b = pd.read_table(url, sep = '\\t')\n"
   ]
  },
  {
   "cell_type": "code",
   "execution_count": 309,
   "metadata": {
    "collapsed": false
   },
   "outputs": [
    {
     "data": {
      "text/html": [
       "<div>\n",
       "<table border=\"1\" class=\"dataframe\">\n",
       "  <thead>\n",
       "    <tr style=\"text-align: right;\">\n",
       "      <th></th>\n",
       "      <th>rank</th>\n",
       "      <th>sandwich</th>\n",
       "      <th>restaurant</th>\n",
       "      <th>description</th>\n",
       "      <th>price</th>\n",
       "      <th>address</th>\n",
       "      <th>city</th>\n",
       "      <th>phone</th>\n",
       "      <th>website</th>\n",
       "      <th>full_address</th>\n",
       "      <th>formatted_address</th>\n",
       "      <th>lat</th>\n",
       "      <th>lng</th>\n",
       "    </tr>\n",
       "  </thead>\n",
       "  <tbody>\n",
       "    <tr>\n",
       "      <th>0</th>\n",
       "      <td>1</td>\n",
       "      <td>BLT</td>\n",
       "      <td>Old Oak Tap</td>\n",
       "      <td>The B is applewood smoked&amp;mdash;nice and snapp...</td>\n",
       "      <td>$10</td>\n",
       "      <td>2109 W. Chicago Ave.</td>\n",
       "      <td>Chicago</td>\n",
       "      <td>773-772-0406</td>\n",
       "      <td>theoldoaktap.com</td>\n",
       "      <td>2109 W. Chicago Ave., Chicago</td>\n",
       "      <td>2109 West Chicago Avenue, Chicago, IL 60622, USA</td>\n",
       "      <td>41.895734</td>\n",
       "      <td>-87.679960</td>\n",
       "    </tr>\n",
       "    <tr>\n",
       "      <th>1</th>\n",
       "      <td>2</td>\n",
       "      <td>Fried Bologna</td>\n",
       "      <td>Au Cheval</td>\n",
       "      <td>Thought your bologna-eating days had retired w...</td>\n",
       "      <td>$9</td>\n",
       "      <td>800 W. Randolph St.</td>\n",
       "      <td>Chicago</td>\n",
       "      <td>312-929-4580</td>\n",
       "      <td>aucheval.tumblr.com</td>\n",
       "      <td>800 W. Randolph St., Chicago</td>\n",
       "      <td>800 West Randolph Street, Chicago, IL 60607, USA</td>\n",
       "      <td>41.884672</td>\n",
       "      <td>-87.647754</td>\n",
       "    </tr>\n",
       "    <tr>\n",
       "      <th>2</th>\n",
       "      <td>3</td>\n",
       "      <td>Woodland Mushroom</td>\n",
       "      <td>Xoco</td>\n",
       "      <td>Leave it to Rick Bayless and crew to come up w...</td>\n",
       "      <td>$9.50.</td>\n",
       "      <td>445 N. Clark St.</td>\n",
       "      <td>Chicago</td>\n",
       "      <td>312-334-3688</td>\n",
       "      <td>rickbayless.com</td>\n",
       "      <td>445 N. Clark St., Chicago</td>\n",
       "      <td>445 North Clark Street, Chicago, IL 60654, USA</td>\n",
       "      <td>41.890602</td>\n",
       "      <td>-87.630925</td>\n",
       "    </tr>\n",
       "    <tr>\n",
       "      <th>3</th>\n",
       "      <td>4</td>\n",
       "      <td>Roast Beef</td>\n",
       "      <td>Al&amp;rsquo;s Deli</td>\n",
       "      <td>The Francophile brothers behind this deli, whi...</td>\n",
       "      <td>$9.40.</td>\n",
       "      <td>914 Noyes St.</td>\n",
       "      <td>Evanston</td>\n",
       "      <td>NaN</td>\n",
       "      <td>alsdeli.net</td>\n",
       "      <td>914 Noyes St., Evanston</td>\n",
       "      <td>914 Noyes Street, Evanston, IL 60201, USA</td>\n",
       "      <td>42.058442</td>\n",
       "      <td>-87.684425</td>\n",
       "    </tr>\n",
       "    <tr>\n",
       "      <th>4</th>\n",
       "      <td>5</td>\n",
       "      <td>PB&amp;amp;L</td>\n",
       "      <td>Publican Qualty Meats</td>\n",
       "      <td>When this place opened in February, it quickly...</td>\n",
       "      <td>$10</td>\n",
       "      <td>825 W. Fulton Mkt.</td>\n",
       "      <td>Chicago</td>\n",
       "      <td>312-445-8977</td>\n",
       "      <td>publicanqualitymeats.com</td>\n",
       "      <td>825 W. Fulton Mkt., Chicago</td>\n",
       "      <td>825 West Fulton Market, Chicago, IL 60607, USA</td>\n",
       "      <td>41.886637</td>\n",
       "      <td>-87.648553</td>\n",
       "    </tr>\n",
       "    <tr>\n",
       "      <th>5</th>\n",
       "      <td>6</td>\n",
       "      <td>Belgian Chicken Curry Salad</td>\n",
       "      <td>Hendrickx Belgian Bread Crafter</td>\n",
       "      <td>The mom-and-pop aesthetic is a yeast-scented b...</td>\n",
       "      <td>$7.25.</td>\n",
       "      <td>100 E. Walton St.</td>\n",
       "      <td>Chicago</td>\n",
       "      <td>312-649-6717</td>\n",
       "      <td>NaN</td>\n",
       "      <td>100 E. Walton St., Chicago</td>\n",
       "      <td>100 East Walton Street, Chicago, IL 60611, USA</td>\n",
       "      <td>41.900246</td>\n",
       "      <td>-87.625163</td>\n",
       "    </tr>\n",
       "  </tbody>\n",
       "</table>\n",
       "</div>"
      ],
      "text/plain": [
       "   rank                     sandwich                       restaurant  \\\n",
       "0     1                          BLT                      Old Oak Tap   \n",
       "1     2                Fried Bologna                        Au Cheval   \n",
       "2     3            Woodland Mushroom                             Xoco   \n",
       "3     4                   Roast Beef                  Al&rsquo;s Deli   \n",
       "4     5                     PB&amp;L            Publican Qualty Meats   \n",
       "5     6  Belgian Chicken Curry Salad  Hendrickx Belgian Bread Crafter   \n",
       "\n",
       "                                         description   price  \\\n",
       "0  The B is applewood smoked&mdash;nice and snapp...     $10   \n",
       "1  Thought your bologna-eating days had retired w...      $9   \n",
       "2  Leave it to Rick Bayless and crew to come up w...  $9.50.   \n",
       "3  The Francophile brothers behind this deli, whi...  $9.40.   \n",
       "4  When this place opened in February, it quickly...     $10   \n",
       "5  The mom-and-pop aesthetic is a yeast-scented b...  $7.25.   \n",
       "\n",
       "                address      city         phone                   website  \\\n",
       "0  2109 W. Chicago Ave.   Chicago  773-772-0406          theoldoaktap.com   \n",
       "1   800 W. Randolph St.   Chicago  312-929-4580       aucheval.tumblr.com   \n",
       "2      445 N. Clark St.   Chicago  312-334-3688           rickbayless.com   \n",
       "3         914 Noyes St.  Evanston           NaN               alsdeli.net   \n",
       "4    825 W. Fulton Mkt.   Chicago  312-445-8977  publicanqualitymeats.com   \n",
       "5     100 E. Walton St.   Chicago  312-649-6717                       NaN   \n",
       "\n",
       "                    full_address  \\\n",
       "0  2109 W. Chicago Ave., Chicago   \n",
       "1   800 W. Randolph St., Chicago   \n",
       "2      445 N. Clark St., Chicago   \n",
       "3        914 Noyes St., Evanston   \n",
       "4    825 W. Fulton Mkt., Chicago   \n",
       "5     100 E. Walton St., Chicago   \n",
       "\n",
       "                                  formatted_address        lat        lng  \n",
       "0  2109 West Chicago Avenue, Chicago, IL 60622, USA  41.895734 -87.679960  \n",
       "1  800 West Randolph Street, Chicago, IL 60607, USA  41.884672 -87.647754  \n",
       "2    445 North Clark Street, Chicago, IL 60654, USA  41.890602 -87.630925  \n",
       "3         914 Noyes Street, Evanston, IL 60201, USA  42.058442 -87.684425  \n",
       "4    825 West Fulton Market, Chicago, IL 60607, USA  41.886637 -87.648553  \n",
       "5    100 East Walton Street, Chicago, IL 60611, USA  41.900246 -87.625163  "
      ]
     },
     "execution_count": 309,
     "metadata": {},
     "output_type": "execute_result"
    }
   ],
   "source": [
    "b.head(6)"
   ]
  },
  {
   "cell_type": "code",
   "execution_count": 310,
   "metadata": {
    "collapsed": false
   },
   "outputs": [
    {
     "name": "stdout",
     "output_type": "stream",
     "text": [
      "['com' 'net' 'org']\n"
     ]
    }
   ],
   "source": [
    "q = b['website'].str.split('/', expand = True)\n",
    "p =q.loc[:,0].str[-3:]\n",
    "print p[p.notnull()].unique()"
   ]
  },
  {
   "cell_type": "code",
   "execution_count": 311,
   "metadata": {
    "collapsed": false
   },
   "outputs": [
    {
     "data": {
      "text/plain": [
       "rank                                                                 3\n",
       "sandwich                                             Woodland Mushroom\n",
       "restaurant                                                        Xoco\n",
       "description          Leave it to Rick Bayless and crew to come up w...\n",
       "price                                                           $9.50.\n",
       "address                                               445 N. Clark St.\n",
       "city                                                           Chicago\n",
       "phone                                                     312-334-3688\n",
       "website                                                rickbayless.com\n",
       "full_address                                 445 N. Clark St., Chicago\n",
       "formatted_address       445 North Clark Street, Chicago, IL 60654, USA\n",
       "lat                                                            41.8906\n",
       "lng                                                           -87.6309\n",
       "Name: 2, dtype: object"
      ]
     },
     "execution_count": 311,
     "metadata": {},
     "output_type": "execute_result"
    }
   ],
   "source": [
    "b.xs(2)"
   ]
  },
  {
   "cell_type": "code",
   "execution_count": 312,
   "metadata": {
    "collapsed": false
   },
   "outputs": [
    {
     "name": "stdout",
     "output_type": "stream",
     "text": [
      "10000 loops, best of 3: 91.4 µs per loop\n"
     ]
    }
   ],
   "source": [
    "%timeit z = b['sandwich'].apply(lambda x: x.startswith('Q'))"
   ]
  },
  {
   "cell_type": "code",
   "execution_count": 313,
   "metadata": {
    "collapsed": false
   },
   "outputs": [
    {
     "name": "stdout",
     "output_type": "stream",
     "text": [
      "10000 loops, best of 3: 138 µs per loop\n"
     ]
    }
   ],
   "source": [
    "%timeit z = b['sandwich'].map(lambda x: x.startswith('Q'))"
   ]
  },
  {
   "cell_type": "code",
   "execution_count": 314,
   "metadata": {
    "collapsed": false
   },
   "outputs": [
    {
     "data": {
      "text/html": [
       "<div>\n",
       "<table border=\"1\" class=\"dataframe\">\n",
       "  <thead>\n",
       "    <tr style=\"text-align: right;\">\n",
       "      <th></th>\n",
       "      <th>rank</th>\n",
       "      <th>sandwich</th>\n",
       "      <th>restaurant</th>\n",
       "      <th>description</th>\n",
       "      <th>price</th>\n",
       "      <th>address</th>\n",
       "      <th>city</th>\n",
       "      <th>phone</th>\n",
       "      <th>website</th>\n",
       "      <th>full_address</th>\n",
       "      <th>formatted_address</th>\n",
       "      <th>lat</th>\n",
       "      <th>lng</th>\n",
       "    </tr>\n",
       "  </thead>\n",
       "  <tbody>\n",
       "    <tr>\n",
       "      <th>0</th>\n",
       "      <td>1</td>\n",
       "      <td>BLT</td>\n",
       "      <td>Old Oak Tap</td>\n",
       "      <td>The B is applewood smoked&amp;mdash;nice and snapp...</td>\n",
       "      <td>$10</td>\n",
       "      <td>2109 W. Chicago Ave.</td>\n",
       "      <td>Chicago</td>\n",
       "      <td>773-772-0406</td>\n",
       "      <td>theoldoaktap.com</td>\n",
       "      <td>2109 W. Chicago Ave., Chicago</td>\n",
       "      <td>2109 West Chicago Avenue, Chicago, IL 60622, USA</td>\n",
       "      <td>41.895734</td>\n",
       "      <td>-87.679960</td>\n",
       "    </tr>\n",
       "    <tr>\n",
       "      <th>1</th>\n",
       "      <td>2</td>\n",
       "      <td>Fried Bologna</td>\n",
       "      <td>Au Cheval</td>\n",
       "      <td>Thought your bologna-eating days had retired w...</td>\n",
       "      <td>$9</td>\n",
       "      <td>800 W. Randolph St.</td>\n",
       "      <td>Chicago</td>\n",
       "      <td>312-929-4580</td>\n",
       "      <td>aucheval.tumblr.com</td>\n",
       "      <td>800 W. Randolph St., Chicago</td>\n",
       "      <td>800 West Randolph Street, Chicago, IL 60607, USA</td>\n",
       "      <td>41.884672</td>\n",
       "      <td>-87.647754</td>\n",
       "    </tr>\n",
       "    <tr>\n",
       "      <th>2</th>\n",
       "      <td>3</td>\n",
       "      <td>Woodland Mushroom</td>\n",
       "      <td>Xoco</td>\n",
       "      <td>Leave it to Rick Bayless and crew to come up w...</td>\n",
       "      <td>$9.50.</td>\n",
       "      <td>445 N. Clark St.</td>\n",
       "      <td>Chicago</td>\n",
       "      <td>312-334-3688</td>\n",
       "      <td>rickbayless.com</td>\n",
       "      <td>445 N. Clark St., Chicago</td>\n",
       "      <td>445 North Clark Street, Chicago, IL 60654, USA</td>\n",
       "      <td>41.890602</td>\n",
       "      <td>-87.630925</td>\n",
       "    </tr>\n",
       "  </tbody>\n",
       "</table>\n",
       "</div>"
      ],
      "text/plain": [
       "   rank           sandwich   restaurant  \\\n",
       "0     1                BLT  Old Oak Tap   \n",
       "1     2      Fried Bologna    Au Cheval   \n",
       "2     3  Woodland Mushroom         Xoco   \n",
       "\n",
       "                                         description   price  \\\n",
       "0  The B is applewood smoked&mdash;nice and snapp...     $10   \n",
       "1  Thought your bologna-eating days had retired w...      $9   \n",
       "2  Leave it to Rick Bayless and crew to come up w...  $9.50.   \n",
       "\n",
       "                address     city         phone              website  \\\n",
       "0  2109 W. Chicago Ave.  Chicago  773-772-0406     theoldoaktap.com   \n",
       "1   800 W. Randolph St.  Chicago  312-929-4580  aucheval.tumblr.com   \n",
       "2      445 N. Clark St.  Chicago  312-334-3688      rickbayless.com   \n",
       "\n",
       "                    full_address  \\\n",
       "0  2109 W. Chicago Ave., Chicago   \n",
       "1   800 W. Randolph St., Chicago   \n",
       "2      445 N. Clark St., Chicago   \n",
       "\n",
       "                                  formatted_address        lat        lng  \n",
       "0  2109 West Chicago Avenue, Chicago, IL 60622, USA  41.895734 -87.679960  \n",
       "1  800 West Randolph Street, Chicago, IL 60607, USA  41.884672 -87.647754  \n",
       "2    445 North Clark Street, Chicago, IL 60654, USA  41.890602 -87.630925  "
      ]
     },
     "execution_count": 314,
     "metadata": {},
     "output_type": "execute_result"
    }
   ],
   "source": [
    "b[b['rank'].isin([1,2,3])]"
   ]
  },
  {
   "cell_type": "code",
   "execution_count": 331,
   "metadata": {
    "collapsed": false
   },
   "outputs": [
    {
     "data": {
      "text/plain": [
       "{'com', 'net', 'org'}"
      ]
     },
     "execution_count": 331,
     "metadata": {},
     "output_type": "execute_result"
    }
   ],
   "source": [
    "a = b['website'].str.split('/', expand = True)\n",
    "z = a[0].str[-3:]\n",
    "set(z[z.notnull()])"
   ]
  },
  {
   "cell_type": "code",
   "execution_count": 316,
   "metadata": {
    "collapsed": false
   },
   "outputs": [],
   "source": [
    "c = b['price'].str[1:]\n",
    "d = c.str.split('.', expand = True)\n",
    "d = d.fillna(0)\n",
    "x = d[0].map(lambda x: int(x)) + d[1].map(lambda x: int(x)/100.0)\n",
    "b['price'] = x"
   ]
  },
  {
   "cell_type": "code",
   "execution_count": 273,
   "metadata": {
    "collapsed": false
   },
   "outputs": [
    {
     "data": {
      "text/html": [
       "<div>\n",
       "<table border=\"1\" class=\"dataframe\">\n",
       "  <thead>\n",
       "    <tr style=\"text-align: right;\">\n",
       "      <th></th>\n",
       "      <th>rank</th>\n",
       "      <th>sandwich</th>\n",
       "      <th>restaurant</th>\n",
       "      <th>description</th>\n",
       "      <th>price</th>\n",
       "      <th>address</th>\n",
       "      <th>city</th>\n",
       "      <th>phone</th>\n",
       "      <th>website</th>\n",
       "      <th>full_address</th>\n",
       "      <th>formatted_address</th>\n",
       "      <th>lat</th>\n",
       "      <th>lng</th>\n",
       "    </tr>\n",
       "  </thead>\n",
       "  <tbody>\n",
       "    <tr>\n",
       "      <th>0</th>\n",
       "      <td>1</td>\n",
       "      <td>BLT</td>\n",
       "      <td>Old Oak Tap</td>\n",
       "      <td>The B is applewood smoked&amp;mdash;nice and snapp...</td>\n",
       "      <td>10.0</td>\n",
       "      <td>2109 W. Chicago Ave.</td>\n",
       "      <td>Chicago</td>\n",
       "      <td>773-772-0406</td>\n",
       "      <td>theoldoaktap.com</td>\n",
       "      <td>2109 W. Chicago Ave., Chicago</td>\n",
       "      <td>2109 West Chicago Avenue, Chicago, IL 60622, USA</td>\n",
       "      <td>41.895734</td>\n",
       "      <td>-87.679960</td>\n",
       "    </tr>\n",
       "    <tr>\n",
       "      <th>1</th>\n",
       "      <td>2</td>\n",
       "      <td>Fried Bologna</td>\n",
       "      <td>Au Cheval</td>\n",
       "      <td>Thought your bologna-eating days had retired w...</td>\n",
       "      <td>9.0</td>\n",
       "      <td>800 W. Randolph St.</td>\n",
       "      <td>Chicago</td>\n",
       "      <td>312-929-4580</td>\n",
       "      <td>aucheval.tumblr.com</td>\n",
       "      <td>800 W. Randolph St., Chicago</td>\n",
       "      <td>800 West Randolph Street, Chicago, IL 60607, USA</td>\n",
       "      <td>41.884672</td>\n",
       "      <td>-87.647754</td>\n",
       "    </tr>\n",
       "    <tr>\n",
       "      <th>2</th>\n",
       "      <td>3</td>\n",
       "      <td>Woodland Mushroom</td>\n",
       "      <td>Xoco</td>\n",
       "      <td>Leave it to Rick Bayless and crew to come up w...</td>\n",
       "      <td>9.5</td>\n",
       "      <td>445 N. Clark St.</td>\n",
       "      <td>Chicago</td>\n",
       "      <td>312-334-3688</td>\n",
       "      <td>rickbayless.com</td>\n",
       "      <td>445 N. Clark St., Chicago</td>\n",
       "      <td>445 North Clark Street, Chicago, IL 60654, USA</td>\n",
       "      <td>41.890602</td>\n",
       "      <td>-87.630925</td>\n",
       "    </tr>\n",
       "    <tr>\n",
       "      <th>3</th>\n",
       "      <td>4</td>\n",
       "      <td>Roast Beef</td>\n",
       "      <td>Al&amp;rsquo;s Deli</td>\n",
       "      <td>The Francophile brothers behind this deli, whi...</td>\n",
       "      <td>9.4</td>\n",
       "      <td>914 Noyes St.</td>\n",
       "      <td>Evanston</td>\n",
       "      <td>NaN</td>\n",
       "      <td>alsdeli.net</td>\n",
       "      <td>914 Noyes St., Evanston</td>\n",
       "      <td>914 Noyes Street, Evanston, IL 60201, USA</td>\n",
       "      <td>42.058442</td>\n",
       "      <td>-87.684425</td>\n",
       "    </tr>\n",
       "    <tr>\n",
       "      <th>4</th>\n",
       "      <td>5</td>\n",
       "      <td>PB&amp;amp;L</td>\n",
       "      <td>Publican Qualty Meats</td>\n",
       "      <td>When this place opened in February, it quickly...</td>\n",
       "      <td>10.0</td>\n",
       "      <td>825 W. Fulton Mkt.</td>\n",
       "      <td>Chicago</td>\n",
       "      <td>312-445-8977</td>\n",
       "      <td>publicanqualitymeats.com</td>\n",
       "      <td>825 W. Fulton Mkt., Chicago</td>\n",
       "      <td>825 West Fulton Market, Chicago, IL 60607, USA</td>\n",
       "      <td>41.886637</td>\n",
       "      <td>-87.648553</td>\n",
       "    </tr>\n",
       "  </tbody>\n",
       "</table>\n",
       "</div>"
      ],
      "text/plain": [
       "   rank           sandwich             restaurant  \\\n",
       "0     1                BLT            Old Oak Tap   \n",
       "1     2      Fried Bologna              Au Cheval   \n",
       "2     3  Woodland Mushroom                   Xoco   \n",
       "3     4         Roast Beef        Al&rsquo;s Deli   \n",
       "4     5           PB&amp;L  Publican Qualty Meats   \n",
       "\n",
       "                                         description  price  \\\n",
       "0  The B is applewood smoked&mdash;nice and snapp...   10.0   \n",
       "1  Thought your bologna-eating days had retired w...    9.0   \n",
       "2  Leave it to Rick Bayless and crew to come up w...    9.5   \n",
       "3  The Francophile brothers behind this deli, whi...    9.4   \n",
       "4  When this place opened in February, it quickly...   10.0   \n",
       "\n",
       "                address      city         phone                   website  \\\n",
       "0  2109 W. Chicago Ave.   Chicago  773-772-0406          theoldoaktap.com   \n",
       "1   800 W. Randolph St.   Chicago  312-929-4580       aucheval.tumblr.com   \n",
       "2      445 N. Clark St.   Chicago  312-334-3688           rickbayless.com   \n",
       "3         914 Noyes St.  Evanston           NaN               alsdeli.net   \n",
       "4    825 W. Fulton Mkt.   Chicago  312-445-8977  publicanqualitymeats.com   \n",
       "\n",
       "                    full_address  \\\n",
       "0  2109 W. Chicago Ave., Chicago   \n",
       "1   800 W. Randolph St., Chicago   \n",
       "2      445 N. Clark St., Chicago   \n",
       "3        914 Noyes St., Evanston   \n",
       "4    825 W. Fulton Mkt., Chicago   \n",
       "\n",
       "                                  formatted_address        lat        lng  \n",
       "0  2109 West Chicago Avenue, Chicago, IL 60622, USA  41.895734 -87.679960  \n",
       "1  800 West Randolph Street, Chicago, IL 60607, USA  41.884672 -87.647754  \n",
       "2    445 North Clark Street, Chicago, IL 60654, USA  41.890602 -87.630925  \n",
       "3         914 Noyes Street, Evanston, IL 60201, USA  42.058442 -87.684425  \n",
       "4    825 West Fulton Market, Chicago, IL 60607, USA  41.886637 -87.648553  "
      ]
     },
     "execution_count": 273,
     "metadata": {},
     "output_type": "execute_result"
    }
   ],
   "source": [
    "b.head()"
   ]
  },
  {
   "cell_type": "code",
   "execution_count": 332,
   "metadata": {
    "collapsed": false
   },
   "outputs": [
    {
     "data": {
      "text/html": [
       "<div>\n",
       "<table border=\"1\" class=\"dataframe\">\n",
       "  <thead>\n",
       "    <tr style=\"text-align: right;\">\n",
       "      <th></th>\n",
       "      <th>rank</th>\n",
       "      <th>sandwich</th>\n",
       "      <th>restaurant</th>\n",
       "      <th>description</th>\n",
       "      <th>price</th>\n",
       "      <th>address</th>\n",
       "      <th>city</th>\n",
       "      <th>phone</th>\n",
       "      <th>website</th>\n",
       "      <th>full_address</th>\n",
       "      <th>formatted_address</th>\n",
       "      <th>lat</th>\n",
       "      <th>lng</th>\n",
       "    </tr>\n",
       "  </thead>\n",
       "  <tbody>\n",
       "    <tr>\n",
       "      <th>36</th>\n",
       "      <td>30</td>\n",
       "      <td>Shaved Prime Rib</td>\n",
       "      <td>Bavette&amp;rsquo;s Bar &amp;amp; Boeuf</td>\n",
       "      <td>Any respectable diner offers this humblest of ...</td>\n",
       "      <td>21</td>\n",
       "      <td>218 W. Kinzie St.</td>\n",
       "      <td>Chicago</td>\n",
       "      <td>312-624-8154</td>\n",
       "      <td>NaN</td>\n",
       "      <td>218 W. Kinzie St., Chicago</td>\n",
       "      <td>218 West Kinzie Street, Chicago, IL 60654, USA</td>\n",
       "      <td>41.889402</td>\n",
       "      <td>-87.634925</td>\n",
       "    </tr>\n",
       "    <tr>\n",
       "      <th>9</th>\n",
       "      <td>10</td>\n",
       "      <td>Grilled Laughing Bird Shrimp and Fried Oyster ...</td>\n",
       "      <td>Nana</td>\n",
       "      <td>Grilled Laughing Bird shrimp and fried oyster ...</td>\n",
       "      <td>17</td>\n",
       "      <td>3267 S. Halsted St.</td>\n",
       "      <td>Chicago</td>\n",
       "      <td>312-929-2486</td>\n",
       "      <td>nanaorganic.com</td>\n",
       "      <td>3267 S. Halsted St., Chicago</td>\n",
       "      <td>3267 South Halsted Street, Chicago, IL 60608, USA</td>\n",
       "      <td>41.834559</td>\n",
       "      <td>-87.646049</td>\n",
       "    </tr>\n",
       "    <tr>\n",
       "      <th>6</th>\n",
       "      <td>7</td>\n",
       "      <td>Lobster Roll</td>\n",
       "      <td>Acadia</td>\n",
       "      <td>In a town that recently discovered the joys of...</td>\n",
       "      <td>16</td>\n",
       "      <td>1639 S. Wabash Ave.</td>\n",
       "      <td>Chicago</td>\n",
       "      <td>312-360-9500</td>\n",
       "      <td>acadiachicago.com</td>\n",
       "      <td>1639 S. Wabash Ave., Chicago</td>\n",
       "      <td>1639 South Wabash Avenue, Chicago, IL 60616, USA</td>\n",
       "      <td>41.858965</td>\n",
       "      <td>-87.625142</td>\n",
       "    </tr>\n",
       "    <tr>\n",
       "      <th>22</th>\n",
       "      <td>20</td>\n",
       "      <td>Crab Cake</td>\n",
       "      <td>Mindy&amp;rsquo;s HotChocolate</td>\n",
       "      <td>In these parts, crab cakes are always a gamble...</td>\n",
       "      <td>15</td>\n",
       "      <td>1747 N. Damen Ave.</td>\n",
       "      <td>Chicago</td>\n",
       "      <td>773-489-1747</td>\n",
       "      <td>hotchocolatechicago.com</td>\n",
       "      <td>1747 N. Damen Ave., Chicago</td>\n",
       "      <td>1747 North Damen Avenue, Chicago, IL 60647, USA</td>\n",
       "      <td>41.913699</td>\n",
       "      <td>-87.677449</td>\n",
       "    </tr>\n",
       "    <tr>\n",
       "      <th>15</th>\n",
       "      <td>13</td>\n",
       "      <td>The Hawkeye</td>\n",
       "      <td>Frog n Snail</td>\n",
       "      <td>We didn&amp;rsquo;t expect a &lt;em&gt;Man v. Food&amp;ndash...</td>\n",
       "      <td>14</td>\n",
       "      <td>3124 N. Broadway</td>\n",
       "      <td>Chicago</td>\n",
       "      <td>773-661-9166</td>\n",
       "      <td>frognsnail.com</td>\n",
       "      <td>3124 N. Broadway, Chicago</td>\n",
       "      <td>3124 North Broadway, Chicago, IL 60657, USA</td>\n",
       "      <td>41.938513</td>\n",
       "      <td>-87.644466</td>\n",
       "    </tr>\n",
       "  </tbody>\n",
       "</table>\n",
       "</div>"
      ],
      "text/plain": [
       "    rank                                           sandwich  \\\n",
       "36    30                                   Shaved Prime Rib   \n",
       "9     10  Grilled Laughing Bird Shrimp and Fried Oyster ...   \n",
       "6      7                                       Lobster Roll   \n",
       "22    20                                          Crab Cake   \n",
       "15    13                                        The Hawkeye   \n",
       "\n",
       "                         restaurant  \\\n",
       "36  Bavette&rsquo;s Bar &amp; Boeuf   \n",
       "9                              Nana   \n",
       "6                            Acadia   \n",
       "22       Mindy&rsquo;s HotChocolate   \n",
       "15                     Frog n Snail   \n",
       "\n",
       "                                          description  price  \\\n",
       "36  Any respectable diner offers this humblest of ...     21   \n",
       "9   Grilled Laughing Bird shrimp and fried oyster ...     17   \n",
       "6   In a town that recently discovered the joys of...     16   \n",
       "22  In these parts, crab cakes are always a gamble...     15   \n",
       "15  We didn&rsquo;t expect a <em>Man v. Food&ndash...     14   \n",
       "\n",
       "                address     city         phone                  website  \\\n",
       "36    218 W. Kinzie St.  Chicago  312-624-8154                      NaN   \n",
       "9   3267 S. Halsted St.  Chicago  312-929-2486          nanaorganic.com   \n",
       "6   1639 S. Wabash Ave.  Chicago  312-360-9500        acadiachicago.com   \n",
       "22   1747 N. Damen Ave.  Chicago  773-489-1747  hotchocolatechicago.com   \n",
       "15     3124 N. Broadway  Chicago  773-661-9166           frognsnail.com   \n",
       "\n",
       "                    full_address  \\\n",
       "36    218 W. Kinzie St., Chicago   \n",
       "9   3267 S. Halsted St., Chicago   \n",
       "6   1639 S. Wabash Ave., Chicago   \n",
       "22   1747 N. Damen Ave., Chicago   \n",
       "15     3124 N. Broadway, Chicago   \n",
       "\n",
       "                                    formatted_address        lat        lng  \n",
       "36     218 West Kinzie Street, Chicago, IL 60654, USA  41.889402 -87.634925  \n",
       "9   3267 South Halsted Street, Chicago, IL 60608, USA  41.834559 -87.646049  \n",
       "6    1639 South Wabash Avenue, Chicago, IL 60616, USA  41.858965 -87.625142  \n",
       "22    1747 North Damen Avenue, Chicago, IL 60647, USA  41.913699 -87.677449  \n",
       "15        3124 North Broadway, Chicago, IL 60657, USA  41.938513 -87.644466  "
      ]
     },
     "execution_count": 332,
     "metadata": {},
     "output_type": "execute_result"
    }
   ],
   "source": [
    "b[b['price'] >= 10].sort_values('price', ascending = False).head()"
   ]
  },
  {
   "cell_type": "code",
   "execution_count": 364,
   "metadata": {
    "collapsed": false
   },
   "outputs": [
    {
     "data": {
      "text/html": [
       "<div>\n",
       "<table border=\"1\" class=\"dataframe\">\n",
       "  <thead>\n",
       "    <tr style=\"text-align: right;\">\n",
       "      <th></th>\n",
       "      <th>rank</th>\n",
       "      <th>sandwich</th>\n",
       "      <th>restaurant</th>\n",
       "      <th>description</th>\n",
       "      <th>price</th>\n",
       "      <th>address</th>\n",
       "      <th>city</th>\n",
       "      <th>phone</th>\n",
       "      <th>website</th>\n",
       "      <th>full_address</th>\n",
       "      <th>formatted_address</th>\n",
       "      <th>lat</th>\n",
       "      <th>lng</th>\n",
       "    </tr>\n",
       "  </thead>\n",
       "  <tbody>\n",
       "    <tr>\n",
       "      <th>3</th>\n",
       "      <td>4</td>\n",
       "      <td>Roast Beef</td>\n",
       "      <td>Al&amp;rsquo;s Deli</td>\n",
       "      <td>The Francophile brothers behind this deli, whi...</td>\n",
       "      <td>9.40</td>\n",
       "      <td>914 Noyes St.</td>\n",
       "      <td>Evanston</td>\n",
       "      <td>NaN</td>\n",
       "      <td>alsdeli.net</td>\n",
       "      <td>914 Noyes St., Evanston</td>\n",
       "      <td>914 Noyes Street, Evanston, IL 60201, USA</td>\n",
       "      <td>42.058442</td>\n",
       "      <td>-87.684425</td>\n",
       "    </tr>\n",
       "    <tr>\n",
       "      <th>12</th>\n",
       "      <td>12</td>\n",
       "      <td>Breaded Steak</td>\n",
       "      <td>Ricobene&amp;rsquo;s</td>\n",
       "      <td>This is what put Ricobene&amp;rsquo;s on the map: ...</td>\n",
       "      <td>5.49</td>\n",
       "      <td>271 N. Weber Road</td>\n",
       "      <td>Bolingbrook</td>\n",
       "      <td>(630) 378-4466</td>\n",
       "      <td>ricobenespizza.com</td>\n",
       "      <td>271 N. Weber Road, Bolingbrook</td>\n",
       "      <td>271 Weber Road, Bolingbrook, IL 60490, USA</td>\n",
       "      <td>41.703263</td>\n",
       "      <td>-88.125653</td>\n",
       "    </tr>\n",
       "    <tr>\n",
       "      <th>14</th>\n",
       "      <td>12</td>\n",
       "      <td>Breaded Steak</td>\n",
       "      <td>Ricobene&amp;rsquo;s</td>\n",
       "      <td>This is what put Ricobene&amp;rsquo;s on the map: ...</td>\n",
       "      <td>5.49</td>\n",
       "      <td>9135 W. 159th Street</td>\n",
       "      <td>Orland Hills</td>\n",
       "      <td>(708) 460-9966</td>\n",
       "      <td>ricobenespizza.com</td>\n",
       "      <td>9135 W. 159th Street, Orland Hills</td>\n",
       "      <td>9135 West 159th Street, Orland Hills, IL 60487...</td>\n",
       "      <td>41.601541</td>\n",
       "      <td>-87.841407</td>\n",
       "    </tr>\n",
       "    <tr>\n",
       "      <th>31</th>\n",
       "      <td>26</td>\n",
       "      <td>Pastrami</td>\n",
       "      <td>Max&amp;rsquo;s Deli</td>\n",
       "      <td>Pastrami is the bacon of deli meats&amp;mdash;a su...</td>\n",
       "      <td>11.95</td>\n",
       "      <td>191 Skokie Valley Rd.</td>\n",
       "      <td>Highland Park</td>\n",
       "      <td>NaN</td>\n",
       "      <td>maxs-deli.com</td>\n",
       "      <td>191 Skokie Valley Rd., Highland Park</td>\n",
       "      <td>191 Skokie Valley Road, Highland Park, IL 6003...</td>\n",
       "      <td>42.155816</td>\n",
       "      <td>-87.804220</td>\n",
       "    </tr>\n",
       "    <tr>\n",
       "      <th>36</th>\n",
       "      <td>30</td>\n",
       "      <td>Shaved Prime Rib</td>\n",
       "      <td>Bavette&amp;rsquo;s Bar &amp;amp; Boeuf</td>\n",
       "      <td>Any respectable diner offers this humblest of ...</td>\n",
       "      <td>21.00</td>\n",
       "      <td>218 W. Kinzie St.</td>\n",
       "      <td>Chicago</td>\n",
       "      <td>312-624-8154</td>\n",
       "      <td>NaN</td>\n",
       "      <td>218 W. Kinzie St., Chicago</td>\n",
       "      <td>218 West Kinzie Street, Chicago, IL 60654, USA</td>\n",
       "      <td>41.889402</td>\n",
       "      <td>-87.634925</td>\n",
       "    </tr>\n",
       "    <tr>\n",
       "      <th>52</th>\n",
       "      <td>42</td>\n",
       "      <td>Whitefish</td>\n",
       "      <td>Market House on the Square</td>\n",
       "      <td>Could a sandwich sound more unsexy? Hardly. Bu...</td>\n",
       "      <td>11.00</td>\n",
       "      <td>655 Forest Ave.</td>\n",
       "      <td>Lake Forest</td>\n",
       "      <td>NaN</td>\n",
       "      <td>themarkethouse.com</td>\n",
       "      <td>655 Forest Ave., Lake Forest</td>\n",
       "      <td>655 Forest Avenue, Lake Forest, IL 60045, USA</td>\n",
       "      <td>42.251828</td>\n",
       "      <td>-87.841322</td>\n",
       "    </tr>\n",
       "    <tr>\n",
       "      <th>54</th>\n",
       "      <td>44</td>\n",
       "      <td>Cauliflower Melt</td>\n",
       "      <td>Marion Street Cheese Market</td>\n",
       "      <td>Who says veggie sandwiches are healthy? This b...</td>\n",
       "      <td>9.00</td>\n",
       "      <td>100 S. Marion St.</td>\n",
       "      <td>Oak Park</td>\n",
       "      <td>NaN</td>\n",
       "      <td>marionstreetcheesemarket.com</td>\n",
       "      <td>100 S. Marion St., Oak Park</td>\n",
       "      <td>100 South Marion Street, Oak Park, IL 60302, USA</td>\n",
       "      <td>41.886737</td>\n",
       "      <td>-87.802515</td>\n",
       "    </tr>\n",
       "    <tr>\n",
       "      <th>58</th>\n",
       "      <td>48</td>\n",
       "      <td>Beef Curry</td>\n",
       "      <td>Zenwich</td>\n",
       "      <td>Proof positive that sandwiches have surpassed ...</td>\n",
       "      <td>7.50</td>\n",
       "      <td>416 N. York St.</td>\n",
       "      <td>Elmhurst</td>\n",
       "      <td>NaN</td>\n",
       "      <td>eatmyzenwich.com</td>\n",
       "      <td>416 N. York St., Elmhurst</td>\n",
       "      <td>416 North York Street, Elmhurst, IL 60126, USA</td>\n",
       "      <td>41.910661</td>\n",
       "      <td>-87.939928</td>\n",
       "    </tr>\n",
       "  </tbody>\n",
       "</table>\n",
       "</div>"
      ],
      "text/plain": [
       "    rank          sandwich                       restaurant  \\\n",
       "3      4        Roast Beef                  Al&rsquo;s Deli   \n",
       "12    12     Breaded Steak                 Ricobene&rsquo;s   \n",
       "14    12     Breaded Steak                 Ricobene&rsquo;s   \n",
       "31    26          Pastrami                 Max&rsquo;s Deli   \n",
       "36    30  Shaved Prime Rib  Bavette&rsquo;s Bar &amp; Boeuf   \n",
       "52    42         Whitefish       Market House on the Square   \n",
       "54    44  Cauliflower Melt      Marion Street Cheese Market   \n",
       "58    48        Beef Curry                          Zenwich   \n",
       "\n",
       "                                          description  price  \\\n",
       "3   The Francophile brothers behind this deli, whi...   9.40   \n",
       "12  This is what put Ricobene&rsquo;s on the map: ...   5.49   \n",
       "14  This is what put Ricobene&rsquo;s on the map: ...   5.49   \n",
       "31  Pastrami is the bacon of deli meats&mdash;a su...  11.95   \n",
       "36  Any respectable diner offers this humblest of ...  21.00   \n",
       "52  Could a sandwich sound more unsexy? Hardly. Bu...  11.00   \n",
       "54  Who says veggie sandwiches are healthy? This b...   9.00   \n",
       "58  Proof positive that sandwiches have surpassed ...   7.50   \n",
       "\n",
       "                  address           city           phone  \\\n",
       "3           914 Noyes St.       Evanston             NaN   \n",
       "12      271 N. Weber Road    Bolingbrook  (630) 378-4466   \n",
       "14   9135 W. 159th Street   Orland Hills  (708) 460-9966   \n",
       "31  191 Skokie Valley Rd.  Highland Park             NaN   \n",
       "36      218 W. Kinzie St.        Chicago    312-624-8154   \n",
       "52        655 Forest Ave.    Lake Forest             NaN   \n",
       "54      100 S. Marion St.       Oak Park             NaN   \n",
       "58        416 N. York St.       Elmhurst             NaN   \n",
       "\n",
       "                         website                          full_address  \\\n",
       "3                    alsdeli.net               914 Noyes St., Evanston   \n",
       "12            ricobenespizza.com        271 N. Weber Road, Bolingbrook   \n",
       "14            ricobenespizza.com    9135 W. 159th Street, Orland Hills   \n",
       "31                 maxs-deli.com  191 Skokie Valley Rd., Highland Park   \n",
       "36                           NaN            218 W. Kinzie St., Chicago   \n",
       "52            themarkethouse.com          655 Forest Ave., Lake Forest   \n",
       "54  marionstreetcheesemarket.com           100 S. Marion St., Oak Park   \n",
       "58              eatmyzenwich.com             416 N. York St., Elmhurst   \n",
       "\n",
       "                                    formatted_address        lat        lng  \n",
       "3           914 Noyes Street, Evanston, IL 60201, USA  42.058442 -87.684425  \n",
       "12         271 Weber Road, Bolingbrook, IL 60490, USA  41.703263 -88.125653  \n",
       "14  9135 West 159th Street, Orland Hills, IL 60487...  41.601541 -87.841407  \n",
       "31  191 Skokie Valley Road, Highland Park, IL 6003...  42.155816 -87.804220  \n",
       "36     218 West Kinzie Street, Chicago, IL 60654, USA  41.889402 -87.634925  \n",
       "52      655 Forest Avenue, Lake Forest, IL 60045, USA  42.251828 -87.841322  \n",
       "54   100 South Marion Street, Oak Park, IL 60302, USA  41.886737 -87.802515  \n",
       "58     416 North York Street, Elmhurst, IL 60126, USA  41.910661 -87.939928  "
      ]
     },
     "execution_count": 364,
     "metadata": {},
     "output_type": "execute_result"
    }
   ],
   "source": [
    "a = b.groupby('city', as_index = False)['price'].transform(max)\n",
    "b[a['price'] == b['price']]"
   ]
  },
  {
   "cell_type": "code",
   "execution_count": 419,
   "metadata": {
    "collapsed": false
   },
   "outputs": [
    {
     "data": {
      "text/html": [
       "<div>\n",
       "<table border=\"1\" class=\"dataframe\">\n",
       "  <thead>\n",
       "    <tr style=\"text-align: right;\">\n",
       "      <th></th>\n",
       "      <th>order_date</th>\n",
       "      <th>item</th>\n",
       "      <th>quantity</th>\n",
       "    </tr>\n",
       "  </thead>\n",
       "  <tbody>\n",
       "    <tr>\n",
       "      <th>5</th>\n",
       "      <td>1999-07-27</td>\n",
       "      <td>Umbrella</td>\n",
       "      <td>1</td>\n",
       "    </tr>\n",
       "    <tr>\n",
       "      <th>6</th>\n",
       "      <td>1999-08-13</td>\n",
       "      <td>Unicycle</td>\n",
       "      <td>1</td>\n",
       "    </tr>\n",
       "    <tr>\n",
       "      <th>7</th>\n",
       "      <td>1999-08-14</td>\n",
       "      <td>Ski Poles</td>\n",
       "      <td>2</td>\n",
       "    </tr>\n",
       "    <tr>\n",
       "      <th>8</th>\n",
       "      <td>1999-08-18</td>\n",
       "      <td>Rain Coat</td>\n",
       "      <td>1</td>\n",
       "    </tr>\n",
       "    <tr>\n",
       "      <th>9</th>\n",
       "      <td>1999-09-01</td>\n",
       "      <td>Snow Shoes</td>\n",
       "      <td>1</td>\n",
       "    </tr>\n",
       "  </tbody>\n",
       "</table>\n",
       "</div>"
      ],
      "text/plain": [
       "  order_date        item  quantity\n",
       "5 1999-07-27    Umbrella         1\n",
       "6 1999-08-13    Unicycle         1\n",
       "7 1999-08-14   Ski Poles         2\n",
       "8 1999-08-18   Rain Coat         1\n",
       "9 1999-09-01  Snow Shoes         1"
      ]
     },
     "execution_count": 419,
     "metadata": {},
     "output_type": "execute_result"
    }
   ],
   "source": [
    "items.iloc[5:10,1:4]"
   ]
  },
  {
   "cell_type": "code",
   "execution_count": 431,
   "metadata": {
    "collapsed": false
   },
   "outputs": [
    {
     "name": "stdout",
     "output_type": "stream",
     "text": [
      "None\n",
      "2\n"
     ]
    },
    {
     "ename": "IndexError",
     "evalue": "list index out of range",
     "output_type": "error",
     "traceback": [
      "\u001b[0;31m---------------------------------------------------------------------------\u001b[0m",
      "\u001b[0;31mIndexError\u001b[0m                                Traceback (most recent call last)",
      "\u001b[0;32m<ipython-input-431-42ef1ccd5e8e>\u001b[0m in \u001b[0;36m<module>\u001b[0;34m()\u001b[0m\n\u001b[1;32m     12\u001b[0m \u001b[0;34m\u001b[0m\u001b[0m\n\u001b[1;32m     13\u001b[0m \u001b[0;34m\u001b[0m\u001b[0m\n\u001b[0;32m---> 14\u001b[0;31m     \u001b[0;32mif\u001b[0m \u001b[0ma\u001b[0m\u001b[0;34m[\u001b[0m\u001b[0;36m0\u001b[0m\u001b[0;34m]\u001b[0m \u001b[0;34m<\u001b[0m \u001b[0mb\u001b[0m\u001b[0;34m[\u001b[0m\u001b[0;36m0\u001b[0m\u001b[0;34m]\u001b[0m\u001b[0;34m:\u001b[0m\u001b[0;34m\u001b[0m\u001b[0m\n\u001b[0m\u001b[1;32m     15\u001b[0m         \u001b[0md\u001b[0m\u001b[0;34m.\u001b[0m\u001b[0mappend\u001b[0m\u001b[0;34m(\u001b[0m\u001b[0ma\u001b[0m\u001b[0;34m[\u001b[0m\u001b[0;36m0\u001b[0m\u001b[0;34m]\u001b[0m\u001b[0;34m)\u001b[0m\u001b[0;34m\u001b[0m\u001b[0m\n\u001b[1;32m     16\u001b[0m         \u001b[0ma\u001b[0m\u001b[0;34m.\u001b[0m\u001b[0mremove\u001b[0m\u001b[0;34m(\u001b[0m\u001b[0ma\u001b[0m\u001b[0;34m[\u001b[0m\u001b[0;36m0\u001b[0m\u001b[0;34m]\u001b[0m\u001b[0;34m)\u001b[0m\u001b[0;34m\u001b[0m\u001b[0m\n",
      "\u001b[0;31mIndexError\u001b[0m: list index out of range"
     ]
    }
   ],
   "source": [
    "\n",
    "\n",
    "a = [1,2,7,8]\n",
    "b = [3,4,5,6]\n",
    "\n",
    "n = len(a) + len(b)\n",
    "\n",
    "d = []\n",
    "while len(d) != n:\n",
    "    if a[0] < b[0]:\n",
    "        d.append(a[0])\n",
    "        a.remove(a[0])\n",
    "    else:\n",
    "        d.append(b[0])\n",
    "        b.remove(b[0])\n",
    "if len(a) != 0:\n",
    "    d.append(a)\n",
    "    \n",
    "\n",
    "a = [1,2,7,8]\n",
    "b = [3,4,5,6]\n",
    "\n",
    "d = []\n",
    "\n",
    "\n",
    "while len(a) >= 0 & len(b) >= 0:\n",
    "    \n",
    "    \n",
    "    if a[0] < b[0]:\n",
    "        d.append(a[0])\n",
    "        a.remove(a[0])\n",
    "    \n",
    "    else:\n",
    "        d.append(b[0])\n",
    "        b.remove(b[0])\n",
    "    \n",
    "if len(a) != 0:\n",
    "    d.append(a)\n",
    "elif len(b) != 0:\n",
    "    d.append(b)\n",
    "        \n",
    "        \n",
    "d = sorted array"
   ]
  },
  {
   "cell_type": "code",
   "execution_count": null,
   "metadata": {
    "collapsed": true
   },
   "outputs": [],
   "source": []
  }
 ],
 "metadata": {
  "kernelspec": {
   "display_name": "Python 2",
   "language": "python",
   "name": "python2"
  },
  "language_info": {
   "codemirror_mode": {
    "name": "ipython",
    "version": 2
   },
   "file_extension": ".py",
   "mimetype": "text/x-python",
   "name": "python",
   "nbconvert_exporter": "python",
   "pygments_lexer": "ipython2",
   "version": "2.7.11"
  }
 },
 "nbformat": 4,
 "nbformat_minor": 0
}

{
 "cells": [
  {
   "cell_type": "code",
   "execution_count": 21,
   "metadata": {
    "collapsed": false
   },
   "outputs": [
    {
     "name": "stdout",
     "output_type": "stream",
     "text": [
      "(13, 5.9604644775390625e-06)\n",
      "(13, 3.790855407714844e-05)\n"
     ]
    }
   ],
   "source": [
    "# Finding the minimum in O(n) and O(n^2)\n",
    "\n",
    "import time\n",
    "def minimum(a):\n",
    "    start = time.time()\n",
    "    m = a[0]\n",
    "    for i in xrange(1, len(a)):\n",
    "        if m > a[i]:\n",
    "            m = a[i]\n",
    "    return m, time.time() - start\n",
    "a = [13,41,13,14,16,71,21]\n",
    "\n",
    "print minimum(a)\n",
    "      \n",
    "def minimum2(a):\n",
    "    start = time.time()\n",
    "    m = a[0]\n",
    "    for i in xrange(len(a)):\n",
    "        for j in xrange(1, len(a)):\n",
    "            if a[i] < a[j] & a[i] < m:\n",
    "                m = a[i]\n",
    "    return m, time.time() - start\n",
    "print minimum2(a)"
   ]
  },
  {
   "cell_type": "code",
   "execution_count": 83,
   "metadata": {
    "collapsed": false
   },
   "outputs": [
    {
     "name": "stdout",
     "output_type": "stream",
     "text": [
      "(True, 8.392333984375e-05)\n",
      "(False, 9.012222290039062e-05)\n"
     ]
    }
   ],
   "source": [
    "# Anagram detection in O(nlogn)\n",
    "\n",
    "def anagram1(a, b):\n",
    "    start = time.time()\n",
    "    a = list(a)\n",
    "    b = list(b)\n",
    "    a.sort()\n",
    "    b.sort()\n",
    "    found = 0\n",
    "    l = min(len(a),len(b))\n",
    "    for i in range(l):\n",
    "        if a[i] in b:\n",
    "            found = found + 1\n",
    "    if found == len(a) or found == len(b):\n",
    "        return True, time.time() - start\n",
    "    else:\n",
    "        return False, time.time() - start\n",
    "\n",
    "a = 'typhonsdghkjzsdhgjkfgkjsdnfgjkdfngkjdnfgjkdnfjkgndfkjgndfkjgndkfjngjkdfngkjdfng'\n",
    "b = 'pythonzldfgnoiwejiowejtowentkndlkgnslkngksiwejtoigklnsdklgnslkgnklsngksldgnksng'\n",
    "print anagram1(a,b)\n",
    "\n",
    "\n",
    "def anagram2(a, b):\n",
    "    start = time.time()\n",
    "    #a = list(a)\n",
    "    #b = list(b)\n",
    "    da = [0] *26\n",
    "    db = [0] * 26\n",
    "    anagram = True\n",
    "    for i in range(len(a)):\n",
    "        pos = ord(a[i]) - ord('a')\n",
    "        da[pos] = da[pos] + 1\n",
    "        \n",
    "    for i in range(len(b)):\n",
    "        pos = ord(b[i]) - ord('a')\n",
    "        db[pos] = db[pos] + 1\n",
    "    j = 0\n",
    "    while j < 26 and anagram:\n",
    "        if da[j] == db[j]:\n",
    "            j = j + 1\n",
    "        else:\n",
    "            anagram = False\n",
    "    return anagram, time.time() - start\n",
    "\n",
    "a = 'typhonsdghkjzsdhgjkfgkjsdnfgjkdfngkjdnfgjkdnfjkgndfkjgndfkjgndkfjngjkdfngkjdfng'\n",
    "b = 'pythonzldfgnoiwejiowejtowentkndlkgnslkngksiwejtoigklnsdklgnslkgnklsngksldgnksng'\n",
    "print anagram2(a,b)\n",
    "        \n"
   ]
  },
  {
   "cell_type": "code",
   "execution_count": 87,
   "metadata": {
    "collapsed": false
   },
   "outputs": [
    {
     "data": {
      "text/plain": [
       "'safda'"
      ]
     },
     "execution_count": 87,
     "metadata": {},
     "output_type": "execute_result"
    }
   ],
   "source": [
    "# Using stacks to implement reverse strings\n",
    "\n",
    "def revstring(a):\n",
    "    a = list(a)\n",
    "    b = []\n",
    "    n = len(a)\n",
    "    for i in xrange(n):\n",
    "        b.append(a.pop())\n",
    "    return ''.join(b)\n",
    "a = 'adfas'\n",
    "revstring(a)\n",
    "    "
   ]
  },
  {
   "cell_type": "code",
   "execution_count": 134,
   "metadata": {
    "collapsed": false
   },
   "outputs": [
    {
     "name": "stdout",
     "output_type": "stream",
     "text": [
      "True\n",
      "False\n"
     ]
    }
   ],
   "source": [
    "\n",
    "\n",
    "def parChecker(symbolString):\n",
    "    s = []\n",
    "    balanced = True\n",
    "    index = 0\n",
    "    while index < len(symbolString) and balanced:\n",
    "        symbol = symbolString[index]\n",
    "        if symbol in \"([{\":\n",
    "            s.append(symbol)\n",
    "        else:\n",
    "            if len(s) == 0:\n",
    "                balanced = False\n",
    "            else:\n",
    "                top = s.pop()\n",
    "                if not matches(top,symbol):\n",
    "                       balanced = False\n",
    "        index = index + 1\n",
    "    if balanced and len(s) == 0:\n",
    "        return True\n",
    "    else:\n",
    "        return False\n",
    "\n",
    "def matches(open,close):\n",
    "    opens = \"([{\"\n",
    "    closers = \")]}\"\n",
    "    return opens.index(open) == closers.index(close)\n",
    "\n",
    "\n",
    "print(parChecker('{{([])}()}'))\n",
    "print(parChecker('[{()]'))\n",
    "\n"
   ]
  },
  {
   "cell_type": "code",
   "execution_count": null,
   "metadata": {
    "collapsed": true
   },
   "outputs": [],
   "source": []
  }
 ],
 "metadata": {
  "kernelspec": {
   "display_name": "Python 2",
   "language": "python",
   "name": "python2"
  },
  "language_info": {
   "codemirror_mode": {
    "name": "ipython",
    "version": 2
   },
   "file_extension": ".py",
   "mimetype": "text/x-python",
   "name": "python",
   "nbconvert_exporter": "python",
   "pygments_lexer": "ipython2",
   "version": "2.7.11"
  }
 },
 "nbformat": 4,
 "nbformat_minor": 0
}
